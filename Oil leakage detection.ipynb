{
 "cells": [
  {
   "cell_type": "code",
   "execution_count": 1,
   "id": "e1aec52b",
   "metadata": {},
   "outputs": [],
   "source": [
    "import pandas as pd\n",
    "import numpy as np\n",
    "import matplotlib.pyplot as plt\n",
    "import seaborn as sns\n",
    "import warnings\n",
    "warnings.filterwarnings(\"ignore\")"
   ]
  },
  {
   "cell_type": "markdown",
   "id": "fd2b4279",
   "metadata": {},
   "source": [
    "## <font color=\"Blue\"> Loading the data set </font>"
   ]
  },
  {
   "cell_type": "code",
   "execution_count": 2,
   "id": "81544775",
   "metadata": {},
   "outputs": [],
   "source": [
    "df=pd.read_csv('equip_failures_training_set.csv')"
   ]
  },
  {
   "cell_type": "markdown",
   "id": "c4d2dbd3",
   "metadata": {},
   "source": [
    "### <font color=\"blue\"> Displaying the first five observations of the data set </font>\n"
   ]
  },
  {
   "cell_type": "code",
   "execution_count": 3,
   "id": "db182af4",
   "metadata": {},
   "outputs": [
    {
     "data": {
      "text/html": [
       "<div>\n",
       "<style scoped>\n",
       "    .dataframe tbody tr th:only-of-type {\n",
       "        vertical-align: middle;\n",
       "    }\n",
       "\n",
       "    .dataframe tbody tr th {\n",
       "        vertical-align: top;\n",
       "    }\n",
       "\n",
       "    .dataframe thead th {\n",
       "        text-align: right;\n",
       "    }\n",
       "</style>\n",
       "<table border=\"1\" class=\"dataframe\">\n",
       "  <thead>\n",
       "    <tr style=\"text-align: right;\">\n",
       "      <th></th>\n",
       "      <th>id</th>\n",
       "      <th>target</th>\n",
       "      <th>sensor1_measure</th>\n",
       "      <th>sensor2_measure</th>\n",
       "      <th>sensor3_measure</th>\n",
       "      <th>sensor4_measure</th>\n",
       "      <th>sensor5_measure</th>\n",
       "      <th>sensor6_measure</th>\n",
       "      <th>sensor7_histogram_bin0</th>\n",
       "      <th>sensor7_histogram_bin1</th>\n",
       "      <th>...</th>\n",
       "      <th>sensor105_histogram_bin2</th>\n",
       "      <th>sensor105_histogram_bin3</th>\n",
       "      <th>sensor105_histogram_bin4</th>\n",
       "      <th>sensor105_histogram_bin5</th>\n",
       "      <th>sensor105_histogram_bin6</th>\n",
       "      <th>sensor105_histogram_bin7</th>\n",
       "      <th>sensor105_histogram_bin8</th>\n",
       "      <th>sensor105_histogram_bin9</th>\n",
       "      <th>sensor106_measure</th>\n",
       "      <th>sensor107_measure</th>\n",
       "    </tr>\n",
       "  </thead>\n",
       "  <tbody>\n",
       "    <tr>\n",
       "      <th>0</th>\n",
       "      <td>1</td>\n",
       "      <td>0</td>\n",
       "      <td>76698</td>\n",
       "      <td>na</td>\n",
       "      <td>2130706438</td>\n",
       "      <td>280</td>\n",
       "      <td>0</td>\n",
       "      <td>0</td>\n",
       "      <td>0</td>\n",
       "      <td>0</td>\n",
       "      <td>...</td>\n",
       "      <td>1240520</td>\n",
       "      <td>493384</td>\n",
       "      <td>721044</td>\n",
       "      <td>469792</td>\n",
       "      <td>339156</td>\n",
       "      <td>157956</td>\n",
       "      <td>73224</td>\n",
       "      <td>0</td>\n",
       "      <td>0</td>\n",
       "      <td>0</td>\n",
       "    </tr>\n",
       "    <tr>\n",
       "      <th>1</th>\n",
       "      <td>2</td>\n",
       "      <td>0</td>\n",
       "      <td>33058</td>\n",
       "      <td>na</td>\n",
       "      <td>0</td>\n",
       "      <td>na</td>\n",
       "      <td>0</td>\n",
       "      <td>0</td>\n",
       "      <td>0</td>\n",
       "      <td>0</td>\n",
       "      <td>...</td>\n",
       "      <td>421400</td>\n",
       "      <td>178064</td>\n",
       "      <td>293306</td>\n",
       "      <td>245416</td>\n",
       "      <td>133654</td>\n",
       "      <td>81140</td>\n",
       "      <td>97576</td>\n",
       "      <td>1500</td>\n",
       "      <td>0</td>\n",
       "      <td>0</td>\n",
       "    </tr>\n",
       "    <tr>\n",
       "      <th>2</th>\n",
       "      <td>3</td>\n",
       "      <td>0</td>\n",
       "      <td>41040</td>\n",
       "      <td>na</td>\n",
       "      <td>228</td>\n",
       "      <td>100</td>\n",
       "      <td>0</td>\n",
       "      <td>0</td>\n",
       "      <td>0</td>\n",
       "      <td>0</td>\n",
       "      <td>...</td>\n",
       "      <td>277378</td>\n",
       "      <td>159812</td>\n",
       "      <td>423992</td>\n",
       "      <td>409564</td>\n",
       "      <td>320746</td>\n",
       "      <td>158022</td>\n",
       "      <td>95128</td>\n",
       "      <td>514</td>\n",
       "      <td>0</td>\n",
       "      <td>0</td>\n",
       "    </tr>\n",
       "    <tr>\n",
       "      <th>3</th>\n",
       "      <td>4</td>\n",
       "      <td>0</td>\n",
       "      <td>12</td>\n",
       "      <td>0</td>\n",
       "      <td>70</td>\n",
       "      <td>66</td>\n",
       "      <td>0</td>\n",
       "      <td>10</td>\n",
       "      <td>0</td>\n",
       "      <td>0</td>\n",
       "      <td>...</td>\n",
       "      <td>240</td>\n",
       "      <td>46</td>\n",
       "      <td>58</td>\n",
       "      <td>44</td>\n",
       "      <td>10</td>\n",
       "      <td>0</td>\n",
       "      <td>0</td>\n",
       "      <td>0</td>\n",
       "      <td>4</td>\n",
       "      <td>32</td>\n",
       "    </tr>\n",
       "    <tr>\n",
       "      <th>4</th>\n",
       "      <td>5</td>\n",
       "      <td>0</td>\n",
       "      <td>60874</td>\n",
       "      <td>na</td>\n",
       "      <td>1368</td>\n",
       "      <td>458</td>\n",
       "      <td>0</td>\n",
       "      <td>0</td>\n",
       "      <td>0</td>\n",
       "      <td>0</td>\n",
       "      <td>...</td>\n",
       "      <td>622012</td>\n",
       "      <td>229790</td>\n",
       "      <td>405298</td>\n",
       "      <td>347188</td>\n",
       "      <td>286954</td>\n",
       "      <td>311560</td>\n",
       "      <td>433954</td>\n",
       "      <td>1218</td>\n",
       "      <td>0</td>\n",
       "      <td>0</td>\n",
       "    </tr>\n",
       "  </tbody>\n",
       "</table>\n",
       "<p>5 rows × 172 columns</p>\n",
       "</div>"
      ],
      "text/plain": [
       "   id  target  sensor1_measure sensor2_measure sensor3_measure  \\\n",
       "0   1       0            76698              na      2130706438   \n",
       "1   2       0            33058              na               0   \n",
       "2   3       0            41040              na             228   \n",
       "3   4       0               12               0              70   \n",
       "4   5       0            60874              na            1368   \n",
       "\n",
       "  sensor4_measure sensor5_measure sensor6_measure sensor7_histogram_bin0  \\\n",
       "0             280               0               0                      0   \n",
       "1              na               0               0                      0   \n",
       "2             100               0               0                      0   \n",
       "3              66               0              10                      0   \n",
       "4             458               0               0                      0   \n",
       "\n",
       "  sensor7_histogram_bin1  ... sensor105_histogram_bin2  \\\n",
       "0                      0  ...                  1240520   \n",
       "1                      0  ...                   421400   \n",
       "2                      0  ...                   277378   \n",
       "3                      0  ...                      240   \n",
       "4                      0  ...                   622012   \n",
       "\n",
       "  sensor105_histogram_bin3 sensor105_histogram_bin4 sensor105_histogram_bin5  \\\n",
       "0                   493384                   721044                   469792   \n",
       "1                   178064                   293306                   245416   \n",
       "2                   159812                   423992                   409564   \n",
       "3                       46                       58                       44   \n",
       "4                   229790                   405298                   347188   \n",
       "\n",
       "  sensor105_histogram_bin6 sensor105_histogram_bin7 sensor105_histogram_bin8  \\\n",
       "0                   339156                   157956                    73224   \n",
       "1                   133654                    81140                    97576   \n",
       "2                   320746                   158022                    95128   \n",
       "3                       10                        0                        0   \n",
       "4                   286954                   311560                   433954   \n",
       "\n",
       "  sensor105_histogram_bin9 sensor106_measure sensor107_measure  \n",
       "0                        0                 0                 0  \n",
       "1                     1500                 0                 0  \n",
       "2                      514                 0                 0  \n",
       "3                        0                 4                32  \n",
       "4                     1218                 0                 0  \n",
       "\n",
       "[5 rows x 172 columns]"
      ]
     },
     "execution_count": 3,
     "metadata": {},
     "output_type": "execute_result"
    }
   ],
   "source": [
    "df.head()"
   ]
  },
  {
   "cell_type": "code",
   "execution_count": 4,
   "id": "8a8da539",
   "metadata": {},
   "outputs": [
    {
     "data": {
      "text/plain": [
       "(60000, 172)"
      ]
     },
     "execution_count": 4,
     "metadata": {},
     "output_type": "execute_result"
    }
   ],
   "source": [
    "df.shape"
   ]
  },
  {
   "cell_type": "markdown",
   "id": "367f7063",
   "metadata": {},
   "source": [
    "### <font color=\"blue\"> The data has 172 sensor columns"
   ]
  },
  {
   "cell_type": "code",
   "execution_count": 5,
   "id": "edf4f02d",
   "metadata": {},
   "outputs": [
    {
     "data": {
      "text/plain": [
       "id                           int64\n",
       "target                       int64\n",
       "sensor1_measure              int64\n",
       "sensor2_measure             object\n",
       "sensor3_measure             object\n",
       "                             ...  \n",
       "sensor105_histogram_bin7    object\n",
       "sensor105_histogram_bin8    object\n",
       "sensor105_histogram_bin9    object\n",
       "sensor106_measure           object\n",
       "sensor107_measure           object\n",
       "Length: 172, dtype: object"
      ]
     },
     "execution_count": 5,
     "metadata": {},
     "output_type": "execute_result"
    }
   ],
   "source": [
    "df.dtypes"
   ]
  },
  {
   "cell_type": "code",
   "execution_count": 6,
   "id": "29260c6e",
   "metadata": {},
   "outputs": [
    {
     "data": {
      "text/plain": [
       "Index(['id', 'target', 'sensor1_measure', 'sensor2_measure', 'sensor3_measure',\n",
       "       'sensor4_measure', 'sensor5_measure', 'sensor6_measure',\n",
       "       'sensor7_histogram_bin0', 'sensor7_histogram_bin1',\n",
       "       ...\n",
       "       'sensor105_histogram_bin2', 'sensor105_histogram_bin3',\n",
       "       'sensor105_histogram_bin4', 'sensor105_histogram_bin5',\n",
       "       'sensor105_histogram_bin6', 'sensor105_histogram_bin7',\n",
       "       'sensor105_histogram_bin8', 'sensor105_histogram_bin9',\n",
       "       'sensor106_measure', 'sensor107_measure'],\n",
       "      dtype='object', length=172)"
      ]
     },
     "execution_count": 6,
     "metadata": {},
     "output_type": "execute_result"
    }
   ],
   "source": [
    "df.columns"
   ]
  },
  {
   "cell_type": "markdown",
   "id": "e00bc5e7",
   "metadata": {},
   "source": [
    "### <font color=\"blue\"> countplot for target variable \n"
   ]
  },
  {
   "cell_type": "code",
   "execution_count": 7,
   "id": "0ea12ccf",
   "metadata": {},
   "outputs": [
    {
     "data": {
      "text/plain": [
       "Text(0, 0.5, 'Number of Records')"
      ]
     },
     "execution_count": 7,
     "metadata": {},
     "output_type": "execute_result"
    },
    {
     "data": {
      "image/png": "[encoded data removed]",
      "text/plain": [
       "<Figure size 432x288 with 1 Axes>"
      ]
     },
     "metadata": {
      "needs_background": "light"
     },
     "output_type": "display_data"
    }
   ],
   "source": [
    "sns.countplot(x='target', data = df)\n",
    "plt.xlabel('Target')\n",
    "plt.ylabel('Number of Records')"
   ]
  },
  {
   "cell_type": "markdown",
   "id": "3dbdda6a",
   "metadata": {},
   "source": [
    "### <font color=\"blue\">  we can see that we have imbalanced data for the target variable  . "
   ]
  },
  {
   "cell_type": "markdown",
   "id": "be272939",
   "metadata": {},
   "source": [
    "### <font color=\"blue\"> Here we balance the data using class weights class_weight='balanced'"
   ]
  },
  {
   "cell_type": "markdown",
   "id": "dbf102c7",
   "metadata": {},
   "source": [
    "## <font color=\"Red\"> Exploratory Data Analysis[EDA]"
   ]
  },
  {
   "cell_type": "code",
   "execution_count": 8,
   "id": "8454b9ff",
   "metadata": {},
   "outputs": [
    {
     "data": {
      "text/plain": [
       "id                           int64\n",
       "target                       int64\n",
       "sensor1_measure              int64\n",
       "sensor2_measure             object\n",
       "sensor3_measure             object\n",
       "                             ...  \n",
       "sensor105_histogram_bin7    object\n",
       "sensor105_histogram_bin8    object\n",
       "sensor105_histogram_bin9    object\n",
       "sensor106_measure           object\n",
       "sensor107_measure           object\n",
       "Length: 172, dtype: object"
      ]
     },
     "execution_count": 8,
     "metadata": {},
     "output_type": "execute_result"
    }
   ],
   "source": [
    "df.dtypes"
   ]
  },
  {
   "cell_type": "markdown",
   "id": "0e1a62b6",
   "metadata": {},
   "source": [
    "### <font color=\"blue\">  to convert the data type into float we should handle missing values first "
   ]
  },
  {
   "cell_type": "markdown",
   "id": "4dc35fe7",
   "metadata": {},
   "source": [
    "### <font color=\"blue\"> checking and Treating  missing values "
   ]
  },
  {
   "cell_type": "code",
   "execution_count": 9,
   "id": "92a2509c",
   "metadata": {},
   "outputs": [
    {
     "data": {
      "text/plain": [
       "id                          0\n",
       "target                      0\n",
       "sensor1_measure             0\n",
       "sensor2_measure             0\n",
       "sensor3_measure             0\n",
       "                           ..\n",
       "sensor105_histogram_bin7    0\n",
       "sensor105_histogram_bin8    0\n",
       "sensor105_histogram_bin9    0\n",
       "sensor106_measure           0\n",
       "sensor107_measure           0\n",
       "Length: 172, dtype: int64"
      ]
     },
     "execution_count": 9,
     "metadata": {},
     "output_type": "execute_result"
    }
   ],
   "source": [
    "df.isna().sum()"
   ]
  },
  {
   "cell_type": "markdown",
   "id": "f501c8ba",
   "metadata": {},
   "source": [
    "### <font color=\"blue\"> Replacing string 'na' with NaN values"
   ]
  },
  {
   "cell_type": "code",
   "execution_count": 10,
   "id": "285c9af5",
   "metadata": {},
   "outputs": [],
   "source": [
    "df = df.replace('na',np.nan)"
   ]
  },
  {
   "cell_type": "code",
   "execution_count": 11,
   "id": "7b21457b",
   "metadata": {},
   "outputs": [
    {
     "data": {
      "text/plain": [
       "id                              0\n",
       "target                          0\n",
       "sensor1_measure                 0\n",
       "sensor2_measure             46329\n",
       "sensor3_measure              3335\n",
       "                            ...  \n",
       "sensor105_histogram_bin7      671\n",
       "sensor105_histogram_bin8      671\n",
       "sensor105_histogram_bin9      671\n",
       "sensor106_measure            2724\n",
       "sensor107_measure            2723\n",
       "Length: 172, dtype: int64"
      ]
     },
     "execution_count": 11,
     "metadata": {},
     "output_type": "execute_result"
    }
   ],
   "source": [
    "df.isna().sum()"
   ]
  },
  {
   "cell_type": "markdown",
   "id": "e5079967",
   "metadata": {},
   "source": [
    "### <font color=\"blue\"> Visual representation of missing ratio percentage"
   ]
  },
  {
   "cell_type": "code",
   "execution_count": 12,
   "id": "31ef3dca",
   "metadata": {},
   "outputs": [],
   "source": [
    "def plot_null(df: pd.DataFrame):\n",
    "    if df.isnull().sum().sum() != 0:\n",
    "        na_df = (df.isnull().sum() / len(df)) * 100      \n",
    "        na_df = na_df.drop(na_df[na_df == 0].index).sort_values(ascending=False)\n",
    "        missing_data = pd.DataFrame({'Missing Ratio %' :na_df})\n",
    "        missing_data.plot(kind = \"barh\")\n",
    "        plt.show()\n",
    "    else:\n",
    "        print('No NAs found')"
   ]
  },
  {
   "cell_type": "code",
   "execution_count": 13,
   "id": "49278d4a",
   "metadata": {},
   "outputs": [
    {
     "data": {
      "image/png": "[encoded data removed]",
      "text/plain": [
       "<Figure size 432x288 with 1 Axes>"
      ]
     },
     "metadata": {
      "needs_background": "light"
     },
     "output_type": "display_data"
    }
   ],
   "source": [
    "plot_null(df)\n",
    "plot_width, plot_height = (30,15)\n",
    "plt.rcParams['figure.figsize'] = (plot_width,plot_height)"
   ]
  },
  {
   "cell_type": "code",
   "execution_count": 14,
   "id": "889f6fff",
   "metadata": {},
   "outputs": [
    {
     "data": {
      "text/plain": [
       "sensor43_measure    82.106667\n",
       "sensor42_measure    81.203333\n",
       "sensor41_measure    79.566667\n",
       "sensor40_measure    77.221667\n",
       "sensor68_measure    77.215000\n",
       "sensor2_measure     77.215000\n",
       "sensor39_measure    73.348333\n",
       "sensor38_measure    65.915000\n",
       "sensor37_measure    45.461667\n",
       "sensor36_measure    38.390000\n",
       "sensor56_measure    24.768333\n",
       "sensor57_measure    24.768333\n",
       "sensor58_measure    24.768333\n",
       "sensor65_measure    24.768333\n",
       "sensor4_measure     24.768333\n",
       "dtype: float64"
      ]
     },
     "execution_count": 14,
     "metadata": {},
     "output_type": "execute_result"
    }
   ],
   "source": [
    "df_null=df.isnull().sum() / len(df) * 100\n",
    "df_null.sort_values(ascending=False)[:15]"
   ]
  },
  {
   "cell_type": "markdown",
   "id": "13d10f05",
   "metadata": {},
   "source": [
    "### <font color=\"blue\"> Removing columns which mostly have null values - more than 50%"
   ]
  },
  {
   "cell_type": "code",
   "execution_count": 15,
   "id": "8bd0f2e3",
   "metadata": {},
   "outputs": [],
   "source": [
    "df.drop(columns=['sensor43_measure', 'sensor42_measure', 'sensor41_measure', 'sensor40_measure', 'sensor68_measure','sensor2_measure','sensor39_measure', 'sensor38_measure', ], axis=1, inplace = True)"
   ]
  },
  {
   "cell_type": "code",
   "execution_count": 16,
   "id": "2392735c",
   "metadata": {},
   "outputs": [
    {
     "data": {
      "text/plain": [
       "(60000, 164)"
      ]
     },
     "execution_count": 16,
     "metadata": {},
     "output_type": "execute_result"
    }
   ],
   "source": [
    "df.shape"
   ]
  },
  {
   "cell_type": "markdown",
   "id": "e6ed6b01",
   "metadata": {},
   "source": [
    "### <font color=\"blue\"> Replacing NaN with median values\n",
    "\n",
    "### <font color=\"indigo\">  Since most of the obeservations in each sensor measure is close to 0 and rest of the observations have an extremely high value, imputing missing values using mean would result in incorrect high values. Hence we choose to impute the missing values using the median of each column\n",
    "\n",
    "For most of the features, the percentage of NULL values are in the range of 0 to 20 percent of their data\n",
    "A very small majority of the features have NULL values in the percentage of 50 to 80 of their data.\n",
    "These features might be redundant or do not have much information which might contribute towards the training of the model.\n",
    "Those features can be dropped during the data preprocessing stage."
   ]
  },
  {
   "cell_type": "code",
   "execution_count": 17,
   "id": "807769fb",
   "metadata": {},
   "outputs": [],
   "source": [
    "for col in df.columns:\n",
    "    if col not in ['id','target']:\n",
    "        df[col] = df[col].fillna(df[col].median())"
   ]
  },
  {
   "cell_type": "code",
   "execution_count": 18,
   "id": "545e0847",
   "metadata": {},
   "outputs": [
    {
     "name": "stdout",
     "output_type": "stream",
     "text": [
      "No NAs found\n"
     ]
    }
   ],
   "source": [
    "plot_null(df)"
   ]
  },
  {
   "cell_type": "markdown",
   "id": "eb1465a6",
   "metadata": {},
   "source": [
    "### <font color=\"blue\"> Converting all measures to numerical data type "
   ]
  },
  {
   "cell_type": "code",
   "execution_count": 19,
   "id": "dee0c237",
   "metadata": {},
   "outputs": [],
   "source": [
    "for col in df.columns:\n",
    "    if col not in ['id', 'target']:\n",
    "        df[col] = df[col].astype(np.float)"
   ]
  },
  {
   "cell_type": "code",
   "execution_count": 20,
   "id": "4813ba8d",
   "metadata": {},
   "outputs": [
    {
     "data": {
      "text/plain": [
       "id                            int64\n",
       "target                        int64\n",
       "sensor1_measure             float64\n",
       "sensor3_measure             float64\n",
       "sensor4_measure             float64\n",
       "                             ...   \n",
       "sensor105_histogram_bin7    float64\n",
       "sensor105_histogram_bin8    float64\n",
       "sensor105_histogram_bin9    float64\n",
       "sensor106_measure           float64\n",
       "sensor107_measure           float64\n",
       "Length: 164, dtype: object"
      ]
     },
     "execution_count": 20,
     "metadata": {},
     "output_type": "execute_result"
    }
   ],
   "source": [
    "df.dtypes"
   ]
  },
  {
   "cell_type": "code",
   "execution_count": 21,
   "id": "5ec17483",
   "metadata": {},
   "outputs": [],
   "source": [
    "x=df"
   ]
  },
  {
   "cell_type": "markdown",
   "id": "5649ce11",
   "metadata": {},
   "source": [
    "### <font color=\"blue\"> Checking the columns which have less than 3 unique values across the data set because columns with constant values do not support our model's prediction"
   ]
  },
  {
   "cell_type": "markdown",
   "id": "5f1f2e13",
   "metadata": {},
   "source": [
    "### <font color=\"indigo\"> Checking for unique values in each column in full dataset"
   ]
  },
  {
   "cell_type": "code",
   "execution_count": 22,
   "id": "1f0a2207",
   "metadata": {},
   "outputs": [
    {
     "data": {
      "text/plain": [
       "<Figure size 12960x720 with 0 Axes>"
      ]
     },
     "metadata": {},
     "output_type": "display_data"
    },
    {
     "data": {
      "image/png": "[encoded data removed]",
      "text/plain": [
       "<Figure size 2160x1080 with 1 Axes>"
      ]
     },
     "metadata": {
      "needs_background": "light"
     },
     "output_type": "display_data"
    }
   ],
   "source": [
    "unique_data = df.nunique().reset_index()\n",
    "unique_data.columns = ['Name','Unique_Count']\n",
    "plt.figure (figsize = (180,10))\n",
    "unique_data.plot(kind='bar')\n",
    "plot_width, plot_height = (16,28)\n",
    "plt.rcParams['figure.figsize'] = (plot_width,plot_height)"
   ]
  },
  {
   "cell_type": "code",
   "execution_count": 23,
   "id": "3d42fc89",
   "metadata": {},
   "outputs": [
    {
     "data": {
      "text/html": [
       "<div>\n",
       "<style scoped>\n",
       "    .dataframe tbody tr th:only-of-type {\n",
       "        vertical-align: middle;\n",
       "    }\n",
       "\n",
       "    .dataframe tbody tr th {\n",
       "        vertical-align: top;\n",
       "    }\n",
       "\n",
       "    .dataframe thead th {\n",
       "        text-align: right;\n",
       "    }\n",
       "</style>\n",
       "<table border=\"1\" class=\"dataframe\">\n",
       "  <thead>\n",
       "    <tr style=\"text-align: right;\">\n",
       "      <th></th>\n",
       "      <th>Name</th>\n",
       "      <th>Unique_Count</th>\n",
       "    </tr>\n",
       "  </thead>\n",
       "  <tbody>\n",
       "    <tr>\n",
       "      <th>0</th>\n",
       "      <td>id</td>\n",
       "      <td>60000</td>\n",
       "    </tr>\n",
       "    <tr>\n",
       "      <th>1</th>\n",
       "      <td>target</td>\n",
       "      <td>2</td>\n",
       "    </tr>\n",
       "    <tr>\n",
       "      <th>2</th>\n",
       "      <td>sensor1_measure</td>\n",
       "      <td>22095</td>\n",
       "    </tr>\n",
       "    <tr>\n",
       "      <th>3</th>\n",
       "      <td>sensor3_measure</td>\n",
       "      <td>2061</td>\n",
       "    </tr>\n",
       "    <tr>\n",
       "      <th>4</th>\n",
       "      <td>sensor4_measure</td>\n",
       "      <td>1886</td>\n",
       "    </tr>\n",
       "    <tr>\n",
       "      <th>...</th>\n",
       "      <td>...</td>\n",
       "      <td>...</td>\n",
       "    </tr>\n",
       "    <tr>\n",
       "      <th>159</th>\n",
       "      <td>sensor105_histogram_bin7</td>\n",
       "      <td>30469</td>\n",
       "    </tr>\n",
       "    <tr>\n",
       "      <th>160</th>\n",
       "      <td>sensor105_histogram_bin8</td>\n",
       "      <td>24213</td>\n",
       "    </tr>\n",
       "    <tr>\n",
       "      <th>161</th>\n",
       "      <td>sensor105_histogram_bin9</td>\n",
       "      <td>9724</td>\n",
       "    </tr>\n",
       "    <tr>\n",
       "      <th>162</th>\n",
       "      <td>sensor106_measure</td>\n",
       "      <td>28</td>\n",
       "    </tr>\n",
       "    <tr>\n",
       "      <th>163</th>\n",
       "      <td>sensor107_measure</td>\n",
       "      <td>49</td>\n",
       "    </tr>\n",
       "  </tbody>\n",
       "</table>\n",
       "<p>164 rows × 2 columns</p>\n",
       "</div>"
      ],
      "text/plain": [
       "                         Name  Unique_Count\n",
       "0                          id         60000\n",
       "1                      target             2\n",
       "2             sensor1_measure         22095\n",
       "3             sensor3_measure          2061\n",
       "4             sensor4_measure          1886\n",
       "..                        ...           ...\n",
       "159  sensor105_histogram_bin7         30469\n",
       "160  sensor105_histogram_bin8         24213\n",
       "161  sensor105_histogram_bin9          9724\n",
       "162         sensor106_measure            28\n",
       "163         sensor107_measure            49\n",
       "\n",
       "[164 rows x 2 columns]"
      ]
     },
     "execution_count": 23,
     "metadata": {},
     "output_type": "execute_result"
    }
   ],
   "source": [
    "unique_data"
   ]
  },
  {
   "cell_type": "markdown",
   "id": "0e8eed78",
   "metadata": {},
   "source": [
    "### <font color=\"blue\"> Checking the columns which have less than 3 unique values across the data set because columns with constant values do not support our model's prediction"
   ]
  },
  {
   "cell_type": "code",
   "execution_count": 59,
   "id": "9cd5532e",
   "metadata": {},
   "outputs": [
    {
     "data": {
      "image/png": "[encoded data removed]",
      "text/plain": [
       "<Figure size 720x360 with 1 Axes>"
      ]
     },
     "metadata": {
      "needs_background": "light"
     },
     "output_type": "display_data"
    }
   ],
   "source": [
    "unique_data[unique_data.Unique_Count<=3].plot(kind='bar',color=\"r\")\n",
    "\n",
    "plot_width, plot_height = (5,5)\n",
    "plt.rcParams['figure.figsize'] = (plot_width,plot_height)"
   ]
  },
  {
   "cell_type": "code",
   "execution_count": 25,
   "id": "6c2f77ac",
   "metadata": {},
   "outputs": [
    {
     "data": {
      "text/html": [
       "<div>\n",
       "<style scoped>\n",
       "    .dataframe tbody tr th:only-of-type {\n",
       "        vertical-align: middle;\n",
       "    }\n",
       "\n",
       "    .dataframe tbody tr th {\n",
       "        vertical-align: top;\n",
       "    }\n",
       "\n",
       "    .dataframe thead th {\n",
       "        text-align: right;\n",
       "    }\n",
       "</style>\n",
       "<table border=\"1\" class=\"dataframe\">\n",
       "  <thead>\n",
       "    <tr style=\"text-align: right;\">\n",
       "      <th></th>\n",
       "      <th>Name</th>\n",
       "      <th>Unique_Count</th>\n",
       "    </tr>\n",
       "  </thead>\n",
       "  <tbody>\n",
       "    <tr>\n",
       "      <th>1</th>\n",
       "      <td>target</td>\n",
       "      <td>2</td>\n",
       "    </tr>\n",
       "    <tr>\n",
       "      <th>84</th>\n",
       "      <td>sensor54_measure</td>\n",
       "      <td>1</td>\n",
       "    </tr>\n",
       "    <tr>\n",
       "      <th>88</th>\n",
       "      <td>sensor58_measure</td>\n",
       "      <td>2</td>\n",
       "    </tr>\n",
       "  </tbody>\n",
       "</table>\n",
       "</div>"
      ],
      "text/plain": [
       "                Name  Unique_Count\n",
       "1             target             2\n",
       "84  sensor54_measure             1\n",
       "88  sensor58_measure             2"
      ]
     },
     "execution_count": 25,
     "metadata": {},
     "output_type": "execute_result"
    }
   ],
   "source": [
    "unique_data[unique_data.Unique_Count<=3]"
   ]
  },
  {
   "cell_type": "markdown",
   "id": "a81aaaa4",
   "metadata": {},
   "source": [
    "### <font color=\"blue\"> Dropping sensor54_measure, 'sensor58_measure', as it has constant values"
   ]
  },
  {
   "cell_type": "code",
   "execution_count": 26,
   "id": "218bebfe",
   "metadata": {},
   "outputs": [],
   "source": [
    "df.drop(columns=['sensor54_measure','sensor58_measure',], axis=1, inplace=True)"
   ]
  },
  {
   "cell_type": "code",
   "execution_count": 27,
   "id": "48fdbdef",
   "metadata": {},
   "outputs": [
    {
     "data": {
      "text/plain": [
       "(60000, 162)"
      ]
     },
     "execution_count": 27,
     "metadata": {},
     "output_type": "execute_result"
    }
   ],
   "source": [
    "df.shape"
   ]
  },
  {
   "cell_type": "code",
   "execution_count": 28,
   "id": "848a7fe9",
   "metadata": {},
   "outputs": [
    {
     "data": {
      "text/html": [
       "<div>\n",
       "<style scoped>\n",
       "    .dataframe tbody tr th:only-of-type {\n",
       "        vertical-align: middle;\n",
       "    }\n",
       "\n",
       "    .dataframe tbody tr th {\n",
       "        vertical-align: top;\n",
       "    }\n",
       "\n",
       "    .dataframe thead th {\n",
       "        text-align: right;\n",
       "    }\n",
       "</style>\n",
       "<table border=\"1\" class=\"dataframe\">\n",
       "  <thead>\n",
       "    <tr style=\"text-align: right;\">\n",
       "      <th></th>\n",
       "      <th>id</th>\n",
       "      <th>target</th>\n",
       "      <th>sensor1_measure</th>\n",
       "      <th>sensor3_measure</th>\n",
       "      <th>sensor4_measure</th>\n",
       "      <th>sensor5_measure</th>\n",
       "      <th>sensor6_measure</th>\n",
       "      <th>sensor7_histogram_bin0</th>\n",
       "      <th>sensor7_histogram_bin1</th>\n",
       "      <th>sensor7_histogram_bin2</th>\n",
       "      <th>...</th>\n",
       "      <th>sensor105_histogram_bin2</th>\n",
       "      <th>sensor105_histogram_bin3</th>\n",
       "      <th>sensor105_histogram_bin4</th>\n",
       "      <th>sensor105_histogram_bin5</th>\n",
       "      <th>sensor105_histogram_bin6</th>\n",
       "      <th>sensor105_histogram_bin7</th>\n",
       "      <th>sensor105_histogram_bin8</th>\n",
       "      <th>sensor105_histogram_bin9</th>\n",
       "      <th>sensor106_measure</th>\n",
       "      <th>sensor107_measure</th>\n",
       "    </tr>\n",
       "  </thead>\n",
       "  <tbody>\n",
       "    <tr>\n",
       "      <th>count</th>\n",
       "      <td>60000.000000</td>\n",
       "      <td>60000.000000</td>\n",
       "      <td>6.000000e+04</td>\n",
       "      <td>6.000000e+04</td>\n",
       "      <td>6.000000e+04</td>\n",
       "      <td>60000.000000</td>\n",
       "      <td>60000.000000</td>\n",
       "      <td>6.000000e+04</td>\n",
       "      <td>6.000000e+04</td>\n",
       "      <td>6.000000e+04</td>\n",
       "      <td>...</td>\n",
       "      <td>6.000000e+04</td>\n",
       "      <td>6.000000e+04</td>\n",
       "      <td>6.000000e+04</td>\n",
       "      <td>6.000000e+04</td>\n",
       "      <td>6.000000e+04</td>\n",
       "      <td>6.000000e+04</td>\n",
       "      <td>6.000000e+04</td>\n",
       "      <td>6.000000e+04</td>\n",
       "      <td>60000.000000</td>\n",
       "      <td>60000.000000</td>\n",
       "    </tr>\n",
       "    <tr>\n",
       "      <th>mean</th>\n",
       "      <td>30000.500000</td>\n",
       "      <td>0.016667</td>\n",
       "      <td>5.933650e+04</td>\n",
       "      <td>3.362258e+08</td>\n",
       "      <td>1.434383e+05</td>\n",
       "      <td>6.535000</td>\n",
       "      <td>10.548200</td>\n",
       "      <td>2.191577e+02</td>\n",
       "      <td>9.648104e+02</td>\n",
       "      <td>8.509771e+03</td>\n",
       "      <td>...</td>\n",
       "      <td>4.431223e+05</td>\n",
       "      <td>2.100188e+05</td>\n",
       "      <td>4.432268e+05</td>\n",
       "      <td>3.916653e+05</td>\n",
       "      <td>3.303672e+05</td>\n",
       "      <td>3.428586e+05</td>\n",
       "      <td>1.372212e+05</td>\n",
       "      <td>8.295099e+03</td>\n",
       "      <td>0.086467</td>\n",
       "      <td>0.203100</td>\n",
       "    </tr>\n",
       "    <tr>\n",
       "      <th>std</th>\n",
       "      <td>17320.652413</td>\n",
       "      <td>0.128020</td>\n",
       "      <td>1.454301e+05</td>\n",
       "      <td>7.767625e+08</td>\n",
       "      <td>3.504525e+07</td>\n",
       "      <td>158.147893</td>\n",
       "      <td>205.387115</td>\n",
       "      <td>2.036364e+04</td>\n",
       "      <td>3.400891e+04</td>\n",
       "      <td>1.494818e+05</td>\n",
       "      <td>...</td>\n",
       "      <td>1.149276e+06</td>\n",
       "      <td>5.403725e+05</td>\n",
       "      <td>1.162002e+06</td>\n",
       "      <td>1.114964e+06</td>\n",
       "      <td>1.063465e+06</td>\n",
       "      <td>1.718666e+06</td>\n",
       "      <td>4.472145e+05</td>\n",
       "      <td>4.721249e+04</td>\n",
       "      <td>4.268570</td>\n",
       "      <td>8.628043</td>\n",
       "    </tr>\n",
       "    <tr>\n",
       "      <th>min</th>\n",
       "      <td>1.000000</td>\n",
       "      <td>0.000000</td>\n",
       "      <td>0.000000e+00</td>\n",
       "      <td>0.000000e+00</td>\n",
       "      <td>0.000000e+00</td>\n",
       "      <td>0.000000</td>\n",
       "      <td>0.000000</td>\n",
       "      <td>0.000000e+00</td>\n",
       "      <td>0.000000e+00</td>\n",
       "      <td>0.000000e+00</td>\n",
       "      <td>...</td>\n",
       "      <td>0.000000e+00</td>\n",
       "      <td>0.000000e+00</td>\n",
       "      <td>0.000000e+00</td>\n",
       "      <td>0.000000e+00</td>\n",
       "      <td>0.000000e+00</td>\n",
       "      <td>0.000000e+00</td>\n",
       "      <td>0.000000e+00</td>\n",
       "      <td>0.000000e+00</td>\n",
       "      <td>0.000000</td>\n",
       "      <td>0.000000</td>\n",
       "    </tr>\n",
       "    <tr>\n",
       "      <th>25%</th>\n",
       "      <td>15000.750000</td>\n",
       "      <td>0.000000</td>\n",
       "      <td>8.340000e+02</td>\n",
       "      <td>2.000000e+01</td>\n",
       "      <td>4.200000e+01</td>\n",
       "      <td>0.000000</td>\n",
       "      <td>0.000000</td>\n",
       "      <td>0.000000e+00</td>\n",
       "      <td>0.000000e+00</td>\n",
       "      <td>0.000000e+00</td>\n",
       "      <td>...</td>\n",
       "      <td>3.033500e+03</td>\n",
       "      <td>1.204000e+03</td>\n",
       "      <td>2.848500e+03</td>\n",
       "      <td>3.839000e+03</td>\n",
       "      <td>5.600000e+02</td>\n",
       "      <td>1.180000e+02</td>\n",
       "      <td>0.000000e+00</td>\n",
       "      <td>0.000000e+00</td>\n",
       "      <td>0.000000</td>\n",
       "      <td>0.000000</td>\n",
       "    </tr>\n",
       "    <tr>\n",
       "      <th>50%</th>\n",
       "      <td>30000.500000</td>\n",
       "      <td>0.000000</td>\n",
       "      <td>3.077600e+04</td>\n",
       "      <td>1.520000e+02</td>\n",
       "      <td>1.260000e+02</td>\n",
       "      <td>0.000000</td>\n",
       "      <td>0.000000</td>\n",
       "      <td>0.000000e+00</td>\n",
       "      <td>0.000000e+00</td>\n",
       "      <td>0.000000e+00</td>\n",
       "      <td>...</td>\n",
       "      <td>2.337960e+05</td>\n",
       "      <td>1.120860e+05</td>\n",
       "      <td>2.215180e+05</td>\n",
       "      <td>1.899880e+05</td>\n",
       "      <td>9.243200e+04</td>\n",
       "      <td>4.109800e+04</td>\n",
       "      <td>3.812000e+03</td>\n",
       "      <td>0.000000e+00</td>\n",
       "      <td>0.000000</td>\n",
       "      <td>0.000000</td>\n",
       "    </tr>\n",
       "    <tr>\n",
       "      <th>75%</th>\n",
       "      <td>45000.250000</td>\n",
       "      <td>0.000000</td>\n",
       "      <td>4.866800e+04</td>\n",
       "      <td>8.480000e+02</td>\n",
       "      <td>2.920000e+02</td>\n",
       "      <td>0.000000</td>\n",
       "      <td>0.000000</td>\n",
       "      <td>0.000000e+00</td>\n",
       "      <td>0.000000e+00</td>\n",
       "      <td>0.000000e+00</td>\n",
       "      <td>...</td>\n",
       "      <td>4.350315e+05</td>\n",
       "      <td>2.164440e+05</td>\n",
       "      <td>4.624655e+05</td>\n",
       "      <td>4.003010e+05</td>\n",
       "      <td>2.725220e+05</td>\n",
       "      <td>1.663465e+05</td>\n",
       "      <td>1.367255e+05</td>\n",
       "      <td>1.934000e+03</td>\n",
       "      <td>0.000000</td>\n",
       "      <td>0.000000</td>\n",
       "    </tr>\n",
       "    <tr>\n",
       "      <th>max</th>\n",
       "      <td>60000.000000</td>\n",
       "      <td>1.000000</td>\n",
       "      <td>2.746564e+06</td>\n",
       "      <td>2.130707e+09</td>\n",
       "      <td>8.584298e+09</td>\n",
       "      <td>21050.000000</td>\n",
       "      <td>20070.000000</td>\n",
       "      <td>3.376892e+06</td>\n",
       "      <td>4.109372e+06</td>\n",
       "      <td>1.055286e+07</td>\n",
       "      <td>...</td>\n",
       "      <td>7.793393e+07</td>\n",
       "      <td>3.775839e+07</td>\n",
       "      <td>9.715238e+07</td>\n",
       "      <td>5.743524e+07</td>\n",
       "      <td>3.160781e+07</td>\n",
       "      <td>1.195801e+08</td>\n",
       "      <td>1.926740e+07</td>\n",
       "      <td>3.810078e+06</td>\n",
       "      <td>482.000000</td>\n",
       "      <td>1146.000000</td>\n",
       "    </tr>\n",
       "  </tbody>\n",
       "</table>\n",
       "<p>8 rows × 162 columns</p>\n",
       "</div>"
      ],
      "text/plain": [
       "                 id        target  sensor1_measure  sensor3_measure  \\\n",
       "count  60000.000000  60000.000000     6.000000e+04     6.000000e+04   \n",
       "mean   30000.500000      0.016667     5.933650e+04     3.362258e+08   \n",
       "std    17320.652413      0.128020     1.454301e+05     7.767625e+08   \n",
       "min        1.000000      0.000000     0.000000e+00     0.000000e+00   \n",
       "25%    15000.750000      0.000000     8.340000e+02     2.000000e+01   \n",
       "50%    30000.500000      0.000000     3.077600e+04     1.520000e+02   \n",
       "75%    45000.250000      0.000000     4.866800e+04     8.480000e+02   \n",
       "max    60000.000000      1.000000     2.746564e+06     2.130707e+09   \n",
       "\n",
       "       sensor4_measure  sensor5_measure  sensor6_measure  \\\n",
       "count     6.000000e+04     60000.000000     60000.000000   \n",
       "mean      1.434383e+05         6.535000        10.548200   \n",
       "std       3.504525e+07       158.147893       205.387115   \n",
       "min       0.000000e+00         0.000000         0.000000   \n",
       "25%       4.200000e+01         0.000000         0.000000   \n",
       "50%       1.260000e+02         0.000000         0.000000   \n",
       "75%       2.920000e+02         0.000000         0.000000   \n",
       "max       8.584298e+09     21050.000000     20070.000000   \n",
       "\n",
       "       sensor7_histogram_bin0  sensor7_histogram_bin1  sensor7_histogram_bin2  \\\n",
       "count            6.000000e+04            6.000000e+04            6.000000e+04   \n",
       "mean             2.191577e+02            9.648104e+02            8.509771e+03   \n",
       "std              2.036364e+04            3.400891e+04            1.494818e+05   \n",
       "min              0.000000e+00            0.000000e+00            0.000000e+00   \n",
       "25%              0.000000e+00            0.000000e+00            0.000000e+00   \n",
       "50%              0.000000e+00            0.000000e+00            0.000000e+00   \n",
       "75%              0.000000e+00            0.000000e+00            0.000000e+00   \n",
       "max              3.376892e+06            4.109372e+06            1.055286e+07   \n",
       "\n",
       "       ...  sensor105_histogram_bin2  sensor105_histogram_bin3  \\\n",
       "count  ...              6.000000e+04              6.000000e+04   \n",
       "mean   ...              4.431223e+05              2.100188e+05   \n",
       "std    ...              1.149276e+06              5.403725e+05   \n",
       "min    ...              0.000000e+00              0.000000e+00   \n",
       "25%    ...              3.033500e+03              1.204000e+03   \n",
       "50%    ...              2.337960e+05              1.120860e+05   \n",
       "75%    ...              4.350315e+05              2.164440e+05   \n",
       "max    ...              7.793393e+07              3.775839e+07   \n",
       "\n",
       "       sensor105_histogram_bin4  sensor105_histogram_bin5  \\\n",
       "count              6.000000e+04              6.000000e+04   \n",
       "mean               4.432268e+05              3.916653e+05   \n",
       "std                1.162002e+06              1.114964e+06   \n",
       "min                0.000000e+00              0.000000e+00   \n",
       "25%                2.848500e+03              3.839000e+03   \n",
       "50%                2.215180e+05              1.899880e+05   \n",
       "75%                4.624655e+05              4.003010e+05   \n",
       "max                9.715238e+07              5.743524e+07   \n",
       "\n",
       "       sensor105_histogram_bin6  sensor105_histogram_bin7  \\\n",
       "count              6.000000e+04              6.000000e+04   \n",
       "mean               3.303672e+05              3.428586e+05   \n",
       "std                1.063465e+06              1.718666e+06   \n",
       "min                0.000000e+00              0.000000e+00   \n",
       "25%                5.600000e+02              1.180000e+02   \n",
       "50%                9.243200e+04              4.109800e+04   \n",
       "75%                2.725220e+05              1.663465e+05   \n",
       "max                3.160781e+07              1.195801e+08   \n",
       "\n",
       "       sensor105_histogram_bin8  sensor105_histogram_bin9  sensor106_measure  \\\n",
       "count              6.000000e+04              6.000000e+04       60000.000000   \n",
       "mean               1.372212e+05              8.295099e+03           0.086467   \n",
       "std                4.472145e+05              4.721249e+04           4.268570   \n",
       "min                0.000000e+00              0.000000e+00           0.000000   \n",
       "25%                0.000000e+00              0.000000e+00           0.000000   \n",
       "50%                3.812000e+03              0.000000e+00           0.000000   \n",
       "75%                1.367255e+05              1.934000e+03           0.000000   \n",
       "max                1.926740e+07              3.810078e+06         482.000000   \n",
       "\n",
       "       sensor107_measure  \n",
       "count       60000.000000  \n",
       "mean            0.203100  \n",
       "std             8.628043  \n",
       "min             0.000000  \n",
       "25%             0.000000  \n",
       "50%             0.000000  \n",
       "75%             0.000000  \n",
       "max          1146.000000  \n",
       "\n",
       "[8 rows x 162 columns]"
      ]
     },
     "execution_count": 28,
     "metadata": {},
     "output_type": "execute_result"
    }
   ],
   "source": [
    "df.describe(include=\"all\")"
   ]
  },
  {
   "cell_type": "markdown",
   "id": "d6be15c5",
   "metadata": {},
   "source": [
    "### <font color=\"blue\">Dropping features having more than 65% of their data points as 0"
   ]
  },
  {
   "cell_type": "code",
   "execution_count": 29,
   "id": "a16747e9",
   "metadata": {},
   "outputs": [
    {
     "name": "stdout",
     "output_type": "stream",
     "text": [
      "These features have more than or equal to 90% of their datapoints as 0 which does not contribute much to training :\n",
      "sensor5_measure\n",
      "sensor6_measure\n",
      "sensor7_histogram_bin0\n",
      "sensor7_histogram_bin1\n",
      "sensor7_histogram_bin2\n",
      "sensor9_measure\n",
      "sensor11_measure\n",
      "sensor18_measure\n",
      "sensor19_measure\n",
      "sensor20_measure\n",
      "sensor21_measure\n",
      "sensor24_histogram_bin0\n",
      "sensor24_histogram_bin1\n",
      "sensor24_histogram_bin2\n",
      "sensor24_histogram_bin3\n",
      "sensor24_histogram_bin4\n",
      "sensor24_histogram_bin9\n",
      "sensor25_histogram_bin8\n",
      "sensor25_histogram_bin9\n",
      "sensor64_histogram_bin0\n",
      "sensor69_histogram_bin9\n",
      "sensor76_measure\n",
      "sensor81_measure\n",
      "sensor82_measure\n",
      "sensor85_measure\n",
      "sensor86_measure\n",
      "sensor87_measure\n",
      "sensor88_measure\n",
      "sensor100_measure\n",
      "sensor101_measure\n",
      "sensor106_measure\n",
      "sensor107_measure\n"
     ]
    }
   ],
   "source": [
    "redundant=[]\n",
    "print(\"These features have more than or equal to 90% of their datapoints as 0 which does not contribute much to training :\")\n",
    "for i in df.columns:\n",
    "    if (df[i]==0).sum()>54000 and i!='target':\n",
    "        #df.drop(i,inplace=True,axis=1)\n",
    "        redundant.append(i)\n",
    "        print(i)"
   ]
  },
  {
   "cell_type": "markdown",
   "id": "83a1bb2d",
   "metadata": {},
   "source": [
    "### <font color=\"blue\">Having many zeroes implies that there is less variability among the features.Less variability implies that there isn't much information for the model to learn from the feature."
   ]
  },
  {
   "cell_type": "code",
   "execution_count": 30,
   "id": "cfcb7583",
   "metadata": {},
   "outputs": [
    {
     "data": {
      "text/plain": [
       "(60000, 162)"
      ]
     },
     "execution_count": 30,
     "metadata": {},
     "output_type": "execute_result"
    }
   ],
   "source": [
    "df.shape"
   ]
  },
  {
   "cell_type": "markdown",
   "id": "3905ddd3",
   "metadata": {},
   "source": [
    "###  <font color=\"blue\">Correlation Matrix used to understand relationship between two or more continuous variables"
   ]
  },
  {
   "cell_type": "code",
   "execution_count": 31,
   "id": "7df6b39e",
   "metadata": {},
   "outputs": [
    {
     "data": {
      "text/html": [
       "<div>\n",
       "<style scoped>\n",
       "    .dataframe tbody tr th:only-of-type {\n",
       "        vertical-align: middle;\n",
       "    }\n",
       "\n",
       "    .dataframe tbody tr th {\n",
       "        vertical-align: top;\n",
       "    }\n",
       "\n",
       "    .dataframe thead th {\n",
       "        text-align: right;\n",
       "    }\n",
       "</style>\n",
       "<table border=\"1\" class=\"dataframe\">\n",
       "  <thead>\n",
       "    <tr style=\"text-align: right;\">\n",
       "      <th></th>\n",
       "      <th>id</th>\n",
       "      <th>target</th>\n",
       "      <th>sensor1_measure</th>\n",
       "      <th>sensor3_measure</th>\n",
       "      <th>sensor4_measure</th>\n",
       "      <th>sensor5_measure</th>\n",
       "      <th>sensor6_measure</th>\n",
       "      <th>sensor7_histogram_bin0</th>\n",
       "      <th>sensor7_histogram_bin1</th>\n",
       "      <th>sensor7_histogram_bin2</th>\n",
       "      <th>...</th>\n",
       "      <th>sensor105_histogram_bin2</th>\n",
       "      <th>sensor105_histogram_bin3</th>\n",
       "      <th>sensor105_histogram_bin4</th>\n",
       "      <th>sensor105_histogram_bin5</th>\n",
       "      <th>sensor105_histogram_bin6</th>\n",
       "      <th>sensor105_histogram_bin7</th>\n",
       "      <th>sensor105_histogram_bin8</th>\n",
       "      <th>sensor105_histogram_bin9</th>\n",
       "      <th>sensor106_measure</th>\n",
       "      <th>sensor107_measure</th>\n",
       "    </tr>\n",
       "  </thead>\n",
       "  <tbody>\n",
       "    <tr>\n",
       "      <th>id</th>\n",
       "      <td>1.000000</td>\n",
       "      <td>-0.012163</td>\n",
       "      <td>-0.008329</td>\n",
       "      <td>0.000468</td>\n",
       "      <td>0.003766</td>\n",
       "      <td>0.001876</td>\n",
       "      <td>0.000497</td>\n",
       "      <td>-0.002419</td>\n",
       "      <td>-0.006330</td>\n",
       "      <td>-0.007714</td>\n",
       "      <td>...</td>\n",
       "      <td>-0.010557</td>\n",
       "      <td>-0.009704</td>\n",
       "      <td>-0.009256</td>\n",
       "      <td>-0.005130</td>\n",
       "      <td>-0.004598</td>\n",
       "      <td>0.000300</td>\n",
       "      <td>-0.001446</td>\n",
       "      <td>0.004272</td>\n",
       "      <td>0.001608</td>\n",
       "      <td>-0.001052</td>\n",
       "    </tr>\n",
       "    <tr>\n",
       "      <th>target</th>\n",
       "      <td>-0.012163</td>\n",
       "      <td>1.000000</td>\n",
       "      <td>0.536978</td>\n",
       "      <td>-0.050996</td>\n",
       "      <td>-0.000530</td>\n",
       "      <td>0.005541</td>\n",
       "      <td>0.016250</td>\n",
       "      <td>0.012353</td>\n",
       "      <td>0.191084</td>\n",
       "      <td>0.339956</td>\n",
       "      <td>...</td>\n",
       "      <td>0.444082</td>\n",
       "      <td>0.429014</td>\n",
       "      <td>0.416195</td>\n",
       "      <td>0.485831</td>\n",
       "      <td>0.415300</td>\n",
       "      <td>0.160284</td>\n",
       "      <td>0.235401</td>\n",
       "      <td>0.115925</td>\n",
       "      <td>0.013650</td>\n",
       "      <td>0.012809</td>\n",
       "    </tr>\n",
       "    <tr>\n",
       "      <th>sensor1_measure</th>\n",
       "      <td>-0.008329</td>\n",
       "      <td>0.536978</td>\n",
       "      <td>1.000000</td>\n",
       "      <td>-0.063876</td>\n",
       "      <td>-0.001590</td>\n",
       "      <td>0.043095</td>\n",
       "      <td>0.062855</td>\n",
       "      <td>0.018549</td>\n",
       "      <td>0.142645</td>\n",
       "      <td>0.284797</td>\n",
       "      <td>...</td>\n",
       "      <td>0.732449</td>\n",
       "      <td>0.736321</td>\n",
       "      <td>0.715000</td>\n",
       "      <td>0.724399</td>\n",
       "      <td>0.724102</td>\n",
       "      <td>0.603888</td>\n",
       "      <td>0.469836</td>\n",
       "      <td>0.247149</td>\n",
       "      <td>0.012409</td>\n",
       "      <td>0.024387</td>\n",
       "    </tr>\n",
       "    <tr>\n",
       "      <th>sensor3_measure</th>\n",
       "      <td>0.000468</td>\n",
       "      <td>-0.050996</td>\n",
       "      <td>-0.063876</td>\n",
       "      <td>1.000000</td>\n",
       "      <td>-0.001765</td>\n",
       "      <td>-0.004250</td>\n",
       "      <td>-0.009480</td>\n",
       "      <td>0.017155</td>\n",
       "      <td>-0.007334</td>\n",
       "      <td>-0.022708</td>\n",
       "      <td>...</td>\n",
       "      <td>-0.046891</td>\n",
       "      <td>-0.040157</td>\n",
       "      <td>-0.039319</td>\n",
       "      <td>-0.039648</td>\n",
       "      <td>-0.047105</td>\n",
       "      <td>-0.048648</td>\n",
       "      <td>-0.003714</td>\n",
       "      <td>0.013764</td>\n",
       "      <td>-0.006262</td>\n",
       "      <td>0.014747</td>\n",
       "    </tr>\n",
       "    <tr>\n",
       "      <th>sensor4_measure</th>\n",
       "      <td>0.003766</td>\n",
       "      <td>-0.000530</td>\n",
       "      <td>-0.001590</td>\n",
       "      <td>-0.001765</td>\n",
       "      <td>1.000000</td>\n",
       "      <td>-0.000168</td>\n",
       "      <td>-0.000209</td>\n",
       "      <td>-0.000043</td>\n",
       "      <td>-0.000115</td>\n",
       "      <td>-0.000230</td>\n",
       "      <td>...</td>\n",
       "      <td>-0.001527</td>\n",
       "      <td>-0.001529</td>\n",
       "      <td>-0.001494</td>\n",
       "      <td>-0.001239</td>\n",
       "      <td>-0.001201</td>\n",
       "      <td>-0.000801</td>\n",
       "      <td>-0.001235</td>\n",
       "      <td>-0.000716</td>\n",
       "      <td>-0.000082</td>\n",
       "      <td>-0.000096</td>\n",
       "    </tr>\n",
       "    <tr>\n",
       "      <th>...</th>\n",
       "      <td>...</td>\n",
       "      <td>...</td>\n",
       "      <td>...</td>\n",
       "      <td>...</td>\n",
       "      <td>...</td>\n",
       "      <td>...</td>\n",
       "      <td>...</td>\n",
       "      <td>...</td>\n",
       "      <td>...</td>\n",
       "      <td>...</td>\n",
       "      <td>...</td>\n",
       "      <td>...</td>\n",
       "      <td>...</td>\n",
       "      <td>...</td>\n",
       "      <td>...</td>\n",
       "      <td>...</td>\n",
       "      <td>...</td>\n",
       "      <td>...</td>\n",
       "      <td>...</td>\n",
       "      <td>...</td>\n",
       "      <td>...</td>\n",
       "    </tr>\n",
       "    <tr>\n",
       "      <th>sensor105_histogram_bin7</th>\n",
       "      <td>0.000300</td>\n",
       "      <td>0.160284</td>\n",
       "      <td>0.603888</td>\n",
       "      <td>-0.048648</td>\n",
       "      <td>-0.000801</td>\n",
       "      <td>0.035503</td>\n",
       "      <td>0.047858</td>\n",
       "      <td>0.000329</td>\n",
       "      <td>0.044185</td>\n",
       "      <td>0.182701</td>\n",
       "      <td>...</td>\n",
       "      <td>0.455031</td>\n",
       "      <td>0.447002</td>\n",
       "      <td>0.437894</td>\n",
       "      <td>0.380114</td>\n",
       "      <td>0.546124</td>\n",
       "      <td>1.000000</td>\n",
       "      <td>0.225378</td>\n",
       "      <td>0.061805</td>\n",
       "      <td>-0.001733</td>\n",
       "      <td>0.000398</td>\n",
       "    </tr>\n",
       "    <tr>\n",
       "      <th>sensor105_histogram_bin8</th>\n",
       "      <td>-0.001446</td>\n",
       "      <td>0.235401</td>\n",
       "      <td>0.469836</td>\n",
       "      <td>-0.003714</td>\n",
       "      <td>-0.001235</td>\n",
       "      <td>-0.009632</td>\n",
       "      <td>-0.012347</td>\n",
       "      <td>-0.000787</td>\n",
       "      <td>0.004927</td>\n",
       "      <td>0.009562</td>\n",
       "      <td>...</td>\n",
       "      <td>0.454112</td>\n",
       "      <td>0.481672</td>\n",
       "      <td>0.459834</td>\n",
       "      <td>0.407250</td>\n",
       "      <td>0.374332</td>\n",
       "      <td>0.225378</td>\n",
       "      <td>1.000000</td>\n",
       "      <td>0.710167</td>\n",
       "      <td>-0.005963</td>\n",
       "      <td>-0.002842</td>\n",
       "    </tr>\n",
       "    <tr>\n",
       "      <th>sensor105_histogram_bin9</th>\n",
       "      <td>0.004272</td>\n",
       "      <td>0.115925</td>\n",
       "      <td>0.247149</td>\n",
       "      <td>0.013764</td>\n",
       "      <td>-0.000716</td>\n",
       "      <td>-0.007218</td>\n",
       "      <td>-0.008996</td>\n",
       "      <td>-0.001209</td>\n",
       "      <td>-0.004274</td>\n",
       "      <td>-0.009410</td>\n",
       "      <td>...</td>\n",
       "      <td>0.228527</td>\n",
       "      <td>0.239576</td>\n",
       "      <td>0.224931</td>\n",
       "      <td>0.190958</td>\n",
       "      <td>0.164162</td>\n",
       "      <td>0.061805</td>\n",
       "      <td>0.710167</td>\n",
       "      <td>1.000000</td>\n",
       "      <td>-0.003439</td>\n",
       "      <td>-0.000971</td>\n",
       "    </tr>\n",
       "    <tr>\n",
       "      <th>sensor106_measure</th>\n",
       "      <td>0.001608</td>\n",
       "      <td>0.013650</td>\n",
       "      <td>0.012409</td>\n",
       "      <td>-0.006262</td>\n",
       "      <td>-0.000082</td>\n",
       "      <td>0.070869</td>\n",
       "      <td>0.106312</td>\n",
       "      <td>-0.000078</td>\n",
       "      <td>0.001793</td>\n",
       "      <td>0.006870</td>\n",
       "      <td>...</td>\n",
       "      <td>0.003657</td>\n",
       "      <td>0.011816</td>\n",
       "      <td>0.003236</td>\n",
       "      <td>0.032363</td>\n",
       "      <td>0.004613</td>\n",
       "      <td>-0.001733</td>\n",
       "      <td>-0.005963</td>\n",
       "      <td>-0.003439</td>\n",
       "      <td>1.000000</td>\n",
       "      <td>0.282201</td>\n",
       "    </tr>\n",
       "    <tr>\n",
       "      <th>sensor107_measure</th>\n",
       "      <td>-0.001052</td>\n",
       "      <td>0.012809</td>\n",
       "      <td>0.024387</td>\n",
       "      <td>0.014747</td>\n",
       "      <td>-0.000096</td>\n",
       "      <td>0.041725</td>\n",
       "      <td>0.060756</td>\n",
       "      <td>0.000236</td>\n",
       "      <td>0.007453</td>\n",
       "      <td>0.020783</td>\n",
       "      <td>...</td>\n",
       "      <td>0.004658</td>\n",
       "      <td>0.008727</td>\n",
       "      <td>0.009714</td>\n",
       "      <td>0.010990</td>\n",
       "      <td>0.021720</td>\n",
       "      <td>0.000398</td>\n",
       "      <td>-0.002842</td>\n",
       "      <td>-0.000971</td>\n",
       "      <td>0.282201</td>\n",
       "      <td>1.000000</td>\n",
       "    </tr>\n",
       "  </tbody>\n",
       "</table>\n",
       "<p>162 rows × 162 columns</p>\n",
       "</div>"
      ],
      "text/plain": [
       "                                id    target  sensor1_measure  \\\n",
       "id                        1.000000 -0.012163        -0.008329   \n",
       "target                   -0.012163  1.000000         0.536978   \n",
       "sensor1_measure          -0.008329  0.536978         1.000000   \n",
       "sensor3_measure           0.000468 -0.050996        -0.063876   \n",
       "sensor4_measure           0.003766 -0.000530        -0.001590   \n",
       "...                            ...       ...              ...   \n",
       "sensor105_histogram_bin7  0.000300  0.160284         0.603888   \n",
       "sensor105_histogram_bin8 -0.001446  0.235401         0.469836   \n",
       "sensor105_histogram_bin9  0.004272  0.115925         0.247149   \n",
       "sensor106_measure         0.001608  0.013650         0.012409   \n",
       "sensor107_measure        -0.001052  0.012809         0.024387   \n",
       "\n",
       "                          sensor3_measure  sensor4_measure  sensor5_measure  \\\n",
       "id                               0.000468         0.003766         0.001876   \n",
       "target                          -0.050996        -0.000530         0.005541   \n",
       "sensor1_measure                 -0.063876        -0.001590         0.043095   \n",
       "sensor3_measure                  1.000000        -0.001765        -0.004250   \n",
       "sensor4_measure                 -0.001765         1.000000        -0.000168   \n",
       "...                                   ...              ...              ...   \n",
       "sensor105_histogram_bin7        -0.048648        -0.000801         0.035503   \n",
       "sensor105_histogram_bin8        -0.003714        -0.001235        -0.009632   \n",
       "sensor105_histogram_bin9         0.013764        -0.000716        -0.007218   \n",
       "sensor106_measure               -0.006262        -0.000082         0.070869   \n",
       "sensor107_measure                0.014747        -0.000096         0.041725   \n",
       "\n",
       "                          sensor6_measure  sensor7_histogram_bin0  \\\n",
       "id                               0.000497               -0.002419   \n",
       "target                           0.016250                0.012353   \n",
       "sensor1_measure                  0.062855                0.018549   \n",
       "sensor3_measure                 -0.009480                0.017155   \n",
       "sensor4_measure                 -0.000209               -0.000043   \n",
       "...                                   ...                     ...   \n",
       "sensor105_histogram_bin7         0.047858                0.000329   \n",
       "sensor105_histogram_bin8        -0.012347               -0.000787   \n",
       "sensor105_histogram_bin9        -0.008996               -0.001209   \n",
       "sensor106_measure                0.106312               -0.000078   \n",
       "sensor107_measure                0.060756                0.000236   \n",
       "\n",
       "                          sensor7_histogram_bin1  sensor7_histogram_bin2  ...  \\\n",
       "id                                     -0.006330               -0.007714  ...   \n",
       "target                                  0.191084                0.339956  ...   \n",
       "sensor1_measure                         0.142645                0.284797  ...   \n",
       "sensor3_measure                        -0.007334               -0.022708  ...   \n",
       "sensor4_measure                        -0.000115               -0.000230  ...   \n",
       "...                                          ...                     ...  ...   \n",
       "sensor105_histogram_bin7                0.044185                0.182701  ...   \n",
       "sensor105_histogram_bin8                0.004927                0.009562  ...   \n",
       "sensor105_histogram_bin9               -0.004274               -0.009410  ...   \n",
       "sensor106_measure                       0.001793                0.006870  ...   \n",
       "sensor107_measure                       0.007453                0.020783  ...   \n",
       "\n",
       "                          sensor105_histogram_bin2  sensor105_histogram_bin3  \\\n",
       "id                                       -0.010557                 -0.009704   \n",
       "target                                    0.444082                  0.429014   \n",
       "sensor1_measure                           0.732449                  0.736321   \n",
       "sensor3_measure                          -0.046891                 -0.040157   \n",
       "sensor4_measure                          -0.001527                 -0.001529   \n",
       "...                                            ...                       ...   \n",
       "sensor105_histogram_bin7                  0.455031                  0.447002   \n",
       "sensor105_histogram_bin8                  0.454112                  0.481672   \n",
       "sensor105_histogram_bin9                  0.228527                  0.239576   \n",
       "sensor106_measure                         0.003657                  0.011816   \n",
       "sensor107_measure                         0.004658                  0.008727   \n",
       "\n",
       "                          sensor105_histogram_bin4  sensor105_histogram_bin5  \\\n",
       "id                                       -0.009256                 -0.005130   \n",
       "target                                    0.416195                  0.485831   \n",
       "sensor1_measure                           0.715000                  0.724399   \n",
       "sensor3_measure                          -0.039319                 -0.039648   \n",
       "sensor4_measure                          -0.001494                 -0.001239   \n",
       "...                                            ...                       ...   \n",
       "sensor105_histogram_bin7                  0.437894                  0.380114   \n",
       "sensor105_histogram_bin8                  0.459834                  0.407250   \n",
       "sensor105_histogram_bin9                  0.224931                  0.190958   \n",
       "sensor106_measure                         0.003236                  0.032363   \n",
       "sensor107_measure                         0.009714                  0.010990   \n",
       "\n",
       "                          sensor105_histogram_bin6  sensor105_histogram_bin7  \\\n",
       "id                                       -0.004598                  0.000300   \n",
       "target                                    0.415300                  0.160284   \n",
       "sensor1_measure                           0.724102                  0.603888   \n",
       "sensor3_measure                          -0.047105                 -0.048648   \n",
       "sensor4_measure                          -0.001201                 -0.000801   \n",
       "...                                            ...                       ...   \n",
       "sensor105_histogram_bin7                  0.546124                  1.000000   \n",
       "sensor105_histogram_bin8                  0.374332                  0.225378   \n",
       "sensor105_histogram_bin9                  0.164162                  0.061805   \n",
       "sensor106_measure                         0.004613                 -0.001733   \n",
       "sensor107_measure                         0.021720                  0.000398   \n",
       "\n",
       "                          sensor105_histogram_bin8  sensor105_histogram_bin9  \\\n",
       "id                                       -0.001446                  0.004272   \n",
       "target                                    0.235401                  0.115925   \n",
       "sensor1_measure                           0.469836                  0.247149   \n",
       "sensor3_measure                          -0.003714                  0.013764   \n",
       "sensor4_measure                          -0.001235                 -0.000716   \n",
       "...                                            ...                       ...   \n",
       "sensor105_histogram_bin7                  0.225378                  0.061805   \n",
       "sensor105_histogram_bin8                  1.000000                  0.710167   \n",
       "sensor105_histogram_bin9                  0.710167                  1.000000   \n",
       "sensor106_measure                        -0.005963                 -0.003439   \n",
       "sensor107_measure                        -0.002842                 -0.000971   \n",
       "\n",
       "                          sensor106_measure  sensor107_measure  \n",
       "id                                 0.001608          -0.001052  \n",
       "target                             0.013650           0.012809  \n",
       "sensor1_measure                    0.012409           0.024387  \n",
       "sensor3_measure                   -0.006262           0.014747  \n",
       "sensor4_measure                   -0.000082          -0.000096  \n",
       "...                                     ...                ...  \n",
       "sensor105_histogram_bin7          -0.001733           0.000398  \n",
       "sensor105_histogram_bin8          -0.005963          -0.002842  \n",
       "sensor105_histogram_bin9          -0.003439          -0.000971  \n",
       "sensor106_measure                  1.000000           0.282201  \n",
       "sensor107_measure                  0.282201           1.000000  \n",
       "\n",
       "[162 rows x 162 columns]"
      ]
     },
     "execution_count": 31,
     "metadata": {},
     "output_type": "execute_result"
    }
   ],
   "source": [
    "df.corr()"
   ]
  },
  {
   "cell_type": "code",
   "execution_count": 32,
   "id": "ec731672",
   "metadata": {},
   "outputs": [
    {
     "data": {
      "image/png": "[encoded data removed]",
      "text/plain": [
       "<Figure size 720x720 with 2 Axes>"
      ]
     },
     "metadata": {
      "needs_background": "light"
     },
     "output_type": "display_data"
    }
   ],
   "source": [
    "matrix = df.corr() #Methods method = 'spearman'\n",
    "\n",
    "#Heat Map - Visual representation of the correlation plot\n",
    "\n",
    "sns.heatmap(matrix)\n",
    "\n",
    "plt.show()\n",
    "\n",
    "plot_width, plot_height = (30,30)\n",
    "plt.rcParams['figure.figsize'] = (plot_width,plot_height)"
   ]
  },
  {
   "cell_type": "markdown",
   "id": "ac136c7b",
   "metadata": {},
   "source": [
    "## <font color=\"Red\"> Model fitting "
   ]
  },
  {
   "cell_type": "code",
   "execution_count": 33,
   "id": "5cee09ef",
   "metadata": {},
   "outputs": [
    {
     "data": {
      "text/html": [
       "<div>\n",
       "<style scoped>\n",
       "    .dataframe tbody tr th:only-of-type {\n",
       "        vertical-align: middle;\n",
       "    }\n",
       "\n",
       "    .dataframe tbody tr th {\n",
       "        vertical-align: top;\n",
       "    }\n",
       "\n",
       "    .dataframe thead th {\n",
       "        text-align: right;\n",
       "    }\n",
       "</style>\n",
       "<table border=\"1\" class=\"dataframe\">\n",
       "  <thead>\n",
       "    <tr style=\"text-align: right;\">\n",
       "      <th></th>\n",
       "      <th>id</th>\n",
       "      <th>target</th>\n",
       "      <th>sensor1_measure</th>\n",
       "      <th>sensor3_measure</th>\n",
       "      <th>sensor4_measure</th>\n",
       "      <th>sensor5_measure</th>\n",
       "      <th>sensor6_measure</th>\n",
       "      <th>sensor7_histogram_bin0</th>\n",
       "      <th>sensor7_histogram_bin1</th>\n",
       "      <th>sensor7_histogram_bin2</th>\n",
       "      <th>...</th>\n",
       "      <th>sensor105_histogram_bin2</th>\n",
       "      <th>sensor105_histogram_bin3</th>\n",
       "      <th>sensor105_histogram_bin4</th>\n",
       "      <th>sensor105_histogram_bin5</th>\n",
       "      <th>sensor105_histogram_bin6</th>\n",
       "      <th>sensor105_histogram_bin7</th>\n",
       "      <th>sensor105_histogram_bin8</th>\n",
       "      <th>sensor105_histogram_bin9</th>\n",
       "      <th>sensor106_measure</th>\n",
       "      <th>sensor107_measure</th>\n",
       "    </tr>\n",
       "  </thead>\n",
       "  <tbody>\n",
       "    <tr>\n",
       "      <th>0</th>\n",
       "      <td>1</td>\n",
       "      <td>0</td>\n",
       "      <td>76698.0</td>\n",
       "      <td>2.130706e+09</td>\n",
       "      <td>280.0</td>\n",
       "      <td>0.0</td>\n",
       "      <td>0.0</td>\n",
       "      <td>0.0</td>\n",
       "      <td>0.0</td>\n",
       "      <td>0.0</td>\n",
       "      <td>...</td>\n",
       "      <td>1240520.0</td>\n",
       "      <td>493384.0</td>\n",
       "      <td>721044.0</td>\n",
       "      <td>469792.0</td>\n",
       "      <td>339156.0</td>\n",
       "      <td>157956.0</td>\n",
       "      <td>73224.0</td>\n",
       "      <td>0.0</td>\n",
       "      <td>0.0</td>\n",
       "      <td>0.0</td>\n",
       "    </tr>\n",
       "    <tr>\n",
       "      <th>1</th>\n",
       "      <td>2</td>\n",
       "      <td>0</td>\n",
       "      <td>33058.0</td>\n",
       "      <td>0.000000e+00</td>\n",
       "      <td>126.0</td>\n",
       "      <td>0.0</td>\n",
       "      <td>0.0</td>\n",
       "      <td>0.0</td>\n",
       "      <td>0.0</td>\n",
       "      <td>0.0</td>\n",
       "      <td>...</td>\n",
       "      <td>421400.0</td>\n",
       "      <td>178064.0</td>\n",
       "      <td>293306.0</td>\n",
       "      <td>245416.0</td>\n",
       "      <td>133654.0</td>\n",
       "      <td>81140.0</td>\n",
       "      <td>97576.0</td>\n",
       "      <td>1500.0</td>\n",
       "      <td>0.0</td>\n",
       "      <td>0.0</td>\n",
       "    </tr>\n",
       "    <tr>\n",
       "      <th>2</th>\n",
       "      <td>3</td>\n",
       "      <td>0</td>\n",
       "      <td>41040.0</td>\n",
       "      <td>2.280000e+02</td>\n",
       "      <td>100.0</td>\n",
       "      <td>0.0</td>\n",
       "      <td>0.0</td>\n",
       "      <td>0.0</td>\n",
       "      <td>0.0</td>\n",
       "      <td>0.0</td>\n",
       "      <td>...</td>\n",
       "      <td>277378.0</td>\n",
       "      <td>159812.0</td>\n",
       "      <td>423992.0</td>\n",
       "      <td>409564.0</td>\n",
       "      <td>320746.0</td>\n",
       "      <td>158022.0</td>\n",
       "      <td>95128.0</td>\n",
       "      <td>514.0</td>\n",
       "      <td>0.0</td>\n",
       "      <td>0.0</td>\n",
       "    </tr>\n",
       "    <tr>\n",
       "      <th>3</th>\n",
       "      <td>4</td>\n",
       "      <td>0</td>\n",
       "      <td>12.0</td>\n",
       "      <td>7.000000e+01</td>\n",
       "      <td>66.0</td>\n",
       "      <td>0.0</td>\n",
       "      <td>10.0</td>\n",
       "      <td>0.0</td>\n",
       "      <td>0.0</td>\n",
       "      <td>0.0</td>\n",
       "      <td>...</td>\n",
       "      <td>240.0</td>\n",
       "      <td>46.0</td>\n",
       "      <td>58.0</td>\n",
       "      <td>44.0</td>\n",
       "      <td>10.0</td>\n",
       "      <td>0.0</td>\n",
       "      <td>0.0</td>\n",
       "      <td>0.0</td>\n",
       "      <td>4.0</td>\n",
       "      <td>32.0</td>\n",
       "    </tr>\n",
       "    <tr>\n",
       "      <th>4</th>\n",
       "      <td>5</td>\n",
       "      <td>0</td>\n",
       "      <td>60874.0</td>\n",
       "      <td>1.368000e+03</td>\n",
       "      <td>458.0</td>\n",
       "      <td>0.0</td>\n",
       "      <td>0.0</td>\n",
       "      <td>0.0</td>\n",
       "      <td>0.0</td>\n",
       "      <td>0.0</td>\n",
       "      <td>...</td>\n",
       "      <td>622012.0</td>\n",
       "      <td>229790.0</td>\n",
       "      <td>405298.0</td>\n",
       "      <td>347188.0</td>\n",
       "      <td>286954.0</td>\n",
       "      <td>311560.0</td>\n",
       "      <td>433954.0</td>\n",
       "      <td>1218.0</td>\n",
       "      <td>0.0</td>\n",
       "      <td>0.0</td>\n",
       "    </tr>\n",
       "  </tbody>\n",
       "</table>\n",
       "<p>5 rows × 162 columns</p>\n",
       "</div>"
      ],
      "text/plain": [
       "   id  target  sensor1_measure  sensor3_measure  sensor4_measure  \\\n",
       "0   1       0          76698.0     2.130706e+09            280.0   \n",
       "1   2       0          33058.0     0.000000e+00            126.0   \n",
       "2   3       0          41040.0     2.280000e+02            100.0   \n",
       "3   4       0             12.0     7.000000e+01             66.0   \n",
       "4   5       0          60874.0     1.368000e+03            458.0   \n",
       "\n",
       "   sensor5_measure  sensor6_measure  sensor7_histogram_bin0  \\\n",
       "0              0.0              0.0                     0.0   \n",
       "1              0.0              0.0                     0.0   \n",
       "2              0.0              0.0                     0.0   \n",
       "3              0.0             10.0                     0.0   \n",
       "4              0.0              0.0                     0.0   \n",
       "\n",
       "   sensor7_histogram_bin1  sensor7_histogram_bin2  ...  \\\n",
       "0                     0.0                     0.0  ...   \n",
       "1                     0.0                     0.0  ...   \n",
       "2                     0.0                     0.0  ...   \n",
       "3                     0.0                     0.0  ...   \n",
       "4                     0.0                     0.0  ...   \n",
       "\n",
       "   sensor105_histogram_bin2  sensor105_histogram_bin3  \\\n",
       "0                 1240520.0                  493384.0   \n",
       "1                  421400.0                  178064.0   \n",
       "2                  277378.0                  159812.0   \n",
       "3                     240.0                      46.0   \n",
       "4                  622012.0                  229790.0   \n",
       "\n",
       "   sensor105_histogram_bin4  sensor105_histogram_bin5  \\\n",
       "0                  721044.0                  469792.0   \n",
       "1                  293306.0                  245416.0   \n",
       "2                  423992.0                  409564.0   \n",
       "3                      58.0                      44.0   \n",
       "4                  405298.0                  347188.0   \n",
       "\n",
       "   sensor105_histogram_bin6  sensor105_histogram_bin7  \\\n",
       "0                  339156.0                  157956.0   \n",
       "1                  133654.0                   81140.0   \n",
       "2                  320746.0                  158022.0   \n",
       "3                      10.0                       0.0   \n",
       "4                  286954.0                  311560.0   \n",
       "\n",
       "   sensor105_histogram_bin8  sensor105_histogram_bin9  sensor106_measure  \\\n",
       "0                   73224.0                       0.0                0.0   \n",
       "1                   97576.0                    1500.0                0.0   \n",
       "2                   95128.0                     514.0                0.0   \n",
       "3                       0.0                       0.0                4.0   \n",
       "4                  433954.0                    1218.0                0.0   \n",
       "\n",
       "   sensor107_measure  \n",
       "0                0.0  \n",
       "1                0.0  \n",
       "2                0.0  \n",
       "3               32.0  \n",
       "4                0.0  \n",
       "\n",
       "[5 rows x 162 columns]"
      ]
     },
     "execution_count": 33,
     "metadata": {},
     "output_type": "execute_result"
    }
   ],
   "source": [
    "df.head()"
   ]
  },
  {
   "cell_type": "code",
   "execution_count": 34,
   "id": "197ff6c3",
   "metadata": {},
   "outputs": [],
   "source": [
    "#Evaluation and HYpertuning\n",
    "from sklearn.model_selection import train_test_split\n",
    "from sklearn.model_selection import cross_val_score\n",
    "from sklearn.metrics import f1_score\n",
    "\n",
    "X=df.drop(['id','target'],axis=1)\n",
    "y=df.target\n",
    "\n",
    "X_train, X_test, y_train, y_test = train_test_split(X, y,test_size=0.2,random_state=1000)"
   ]
  },
  {
   "cell_type": "code",
   "execution_count": 35,
   "id": "8f8284d0",
   "metadata": {},
   "outputs": [
    {
     "data": {
      "text/plain": [
       "(48000, 160)"
      ]
     },
     "execution_count": 35,
     "metadata": {},
     "output_type": "execute_result"
    }
   ],
   "source": [
    "X_train.shape"
   ]
  },
  {
   "cell_type": "code",
   "execution_count": 36,
   "id": "1a5e0826",
   "metadata": {},
   "outputs": [
    {
     "data": {
      "text/plain": [
       "(12000, 160)"
      ]
     },
     "execution_count": 36,
     "metadata": {},
     "output_type": "execute_result"
    }
   ],
   "source": [
    "X_test.shape"
   ]
  },
  {
   "cell_type": "code",
   "execution_count": 37,
   "id": "fa44104e",
   "metadata": {},
   "outputs": [
    {
     "data": {
      "text/plain": [
       "(12000,)"
      ]
     },
     "execution_count": 37,
     "metadata": {},
     "output_type": "execute_result"
    }
   ],
   "source": [
    "y_test.shape"
   ]
  },
  {
   "cell_type": "code",
   "execution_count": 38,
   "id": "93f89107",
   "metadata": {},
   "outputs": [
    {
     "data": {
      "text/plain": [
       "(48000,)"
      ]
     },
     "execution_count": 38,
     "metadata": {},
     "output_type": "execute_result"
    }
   ],
   "source": [
    "y_train.shape"
   ]
  },
  {
   "cell_type": "code",
   "execution_count": null,
   "id": "0e0df5c4",
   "metadata": {},
   "outputs": [],
   "source": []
  },
  {
   "cell_type": "code",
   "execution_count": 39,
   "id": "d0397e48",
   "metadata": {},
   "outputs": [],
   "source": [
    "#classification algorithms\n",
    "from sklearn.linear_model import LogisticRegression\n",
    "lr1 = LogisticRegression().fit(X_train, y_train)\n",
    "\n",
    "from sklearn.ensemble import RandomForestClassifier\n",
    "rf1 = RandomForestClassifier(n_estimators=100, n_jobs=4,random_state=0).fit(X_train, y_train)\n"
   ]
  },
  {
   "cell_type": "code",
   "execution_count": 40,
   "id": "c515cb63",
   "metadata": {},
   "outputs": [],
   "source": [
    "lr_score=f1_score(lr1.predict(X_train),y_train)\n",
    "rf_score=f1_score(rf1.predict(X_train),y_train)\n"
   ]
  },
  {
   "cell_type": "code",
   "execution_count": 41,
   "id": "7a82b53e",
   "metadata": {},
   "outputs": [
    {
     "name": "stdout",
     "output_type": "stream",
     "text": [
      "logistic regression train score: 0.610932\n",
      "random forest train score: 1.000000\n"
     ]
    }
   ],
   "source": [
    "print(\"logistic regression train score: %f\" % lr_score)\n",
    "print(\"random forest train score: %f\" % rf_score)"
   ]
  },
  {
   "cell_type": "code",
   "execution_count": 42,
   "id": "351cf0fe",
   "metadata": {},
   "outputs": [],
   "source": [
    "lr1_score=f1_score(lr1.predict(X_test),y_test)\n",
    "rf1_score=f1_score(rf1.predict(X_test),y_test)\n"
   ]
  },
  {
   "cell_type": "code",
   "execution_count": null,
   "id": "ebe54e96",
   "metadata": {},
   "outputs": [],
   "source": []
  },
  {
   "cell_type": "code",
   "execution_count": 43,
   "id": "23d7644c",
   "metadata": {},
   "outputs": [
    {
     "name": "stdout",
     "output_type": "stream",
     "text": [
      "logistic regression test score: 0.598187\n",
      "random forest test score: 0.741641\n"
     ]
    }
   ],
   "source": [
    "print(\"logistic regression test score: %f\" % lr1_score)\n",
    "print(\"random forest test score: %f\" % rf1_score)"
   ]
  },
  {
   "cell_type": "code",
   "execution_count": 44,
   "id": "de55a421",
   "metadata": {},
   "outputs": [],
   "source": [
    "y_pred = rf1.predict(X_test)"
   ]
  },
  {
   "cell_type": "code",
   "execution_count": 45,
   "id": "6b501b3c",
   "metadata": {},
   "outputs": [
    {
     "name": "stdout",
     "output_type": "stream",
     "text": [
      "[[11793    21]\n",
      " [   64   122]]\n",
      "              precision    recall  f1-score   support\n",
      "\n",
      "           0       0.99      1.00      1.00     11814\n",
      "           1       0.85      0.66      0.74       186\n",
      "\n",
      "    accuracy                           0.99     12000\n",
      "   macro avg       0.92      0.83      0.87     12000\n",
      "weighted avg       0.99      0.99      0.99     12000\n",
      "\n"
     ]
    }
   ],
   "source": [
    "from sklearn.metrics import classification_report,confusion_matrix\n",
    "print(confusion_matrix(y_test,y_pred))\n",
    "\n",
    "print(classification_report(y_test,y_pred))"
   ]
  },
  {
   "cell_type": "markdown",
   "id": "f5064092",
   "metadata": {},
   "source": [
    "# The overall accuracy of the model is 74%. <br>\n",
    "The precision and recall percentage for each class are high and range from 94% to 97% with a\n",
    "balanced class instances in each group.<br>\n",
    "It is possible to improve the accuracy of this model by changing some of the fine-tuning parameters discussed either manually or using a grid search optimization (recommended approach)."
   ]
  },
  {
   "cell_type": "code",
   "execution_count": 46,
   "id": "87660e83",
   "metadata": {},
   "outputs": [
    {
     "data": {
      "text/html": [
       "<div>\n",
       "<style scoped>\n",
       "    .dataframe tbody tr th:only-of-type {\n",
       "        vertical-align: middle;\n",
       "    }\n",
       "\n",
       "    .dataframe tbody tr th {\n",
       "        vertical-align: top;\n",
       "    }\n",
       "\n",
       "    .dataframe thead th {\n",
       "        text-align: right;\n",
       "    }\n",
       "</style>\n",
       "<table border=\"1\" class=\"dataframe\">\n",
       "  <thead>\n",
       "    <tr style=\"text-align: right;\">\n",
       "      <th></th>\n",
       "      <th>Actual</th>\n",
       "      <th>Predicted</th>\n",
       "    </tr>\n",
       "  </thead>\n",
       "  <tbody>\n",
       "    <tr>\n",
       "      <th>50767</th>\n",
       "      <td>0</td>\n",
       "      <td>0</td>\n",
       "    </tr>\n",
       "    <tr>\n",
       "      <th>2693</th>\n",
       "      <td>0</td>\n",
       "      <td>0</td>\n",
       "    </tr>\n",
       "    <tr>\n",
       "      <th>943</th>\n",
       "      <td>0</td>\n",
       "      <td>0</td>\n",
       "    </tr>\n",
       "    <tr>\n",
       "      <th>29296</th>\n",
       "      <td>0</td>\n",
       "      <td>0</td>\n",
       "    </tr>\n",
       "    <tr>\n",
       "      <th>4605</th>\n",
       "      <td>0</td>\n",
       "      <td>0</td>\n",
       "    </tr>\n",
       "    <tr>\n",
       "      <th>...</th>\n",
       "      <td>...</td>\n",
       "      <td>...</td>\n",
       "    </tr>\n",
       "    <tr>\n",
       "      <th>10433</th>\n",
       "      <td>0</td>\n",
       "      <td>0</td>\n",
       "    </tr>\n",
       "    <tr>\n",
       "      <th>34793</th>\n",
       "      <td>0</td>\n",
       "      <td>0</td>\n",
       "    </tr>\n",
       "    <tr>\n",
       "      <th>39606</th>\n",
       "      <td>0</td>\n",
       "      <td>0</td>\n",
       "    </tr>\n",
       "    <tr>\n",
       "      <th>8080</th>\n",
       "      <td>0</td>\n",
       "      <td>0</td>\n",
       "    </tr>\n",
       "    <tr>\n",
       "      <th>9410</th>\n",
       "      <td>0</td>\n",
       "      <td>0</td>\n",
       "    </tr>\n",
       "  </tbody>\n",
       "</table>\n",
       "<p>12000 rows × 2 columns</p>\n",
       "</div>"
      ],
      "text/plain": [
       "       Actual  Predicted\n",
       "50767       0          0\n",
       "2693        0          0\n",
       "943         0          0\n",
       "29296       0          0\n",
       "4605        0          0\n",
       "...       ...        ...\n",
       "10433       0          0\n",
       "34793       0          0\n",
       "39606       0          0\n",
       "8080        0          0\n",
       "9410        0          0\n",
       "\n",
       "[12000 rows x 2 columns]"
      ]
     },
     "execution_count": 46,
     "metadata": {},
     "output_type": "execute_result"
    }
   ],
   "source": [
    "Prediction=pd.DataFrame({'Actual':y_test, 'Predicted':y_pred})\n",
    "Prediction"
   ]
  },
  {
   "cell_type": "markdown",
   "id": "f37344bc",
   "metadata": {},
   "source": [
    "## Important Variables"
   ]
  },
  {
   "cell_type": "code",
   "execution_count": 47,
   "id": "d6c1c7ce",
   "metadata": {},
   "outputs": [],
   "source": [
    "# Sort the feature importance in descending order\n",
    "importances = rf1.feature_importances_\n",
    "sorted_indices = np.argsort(importances)[::-1]"
   ]
  },
  {
   "cell_type": "code",
   "execution_count": 48,
   "id": "788cf63c",
   "metadata": {},
   "outputs": [
    {
     "data": {
      "text/html": [
       "<div>\n",
       "<style scoped>\n",
       "    .dataframe tbody tr th:only-of-type {\n",
       "        vertical-align: middle;\n",
       "    }\n",
       "\n",
       "    .dataframe tbody tr th {\n",
       "        vertical-align: top;\n",
       "    }\n",
       "\n",
       "    .dataframe thead th {\n",
       "        text-align: right;\n",
       "    }\n",
       "</style>\n",
       "<table border=\"1\" class=\"dataframe\">\n",
       "  <thead>\n",
       "    <tr style=\"text-align: right;\">\n",
       "      <th></th>\n",
       "      <th>FeatureLabels</th>\n",
       "      <th>Importances</th>\n",
       "    </tr>\n",
       "  </thead>\n",
       "  <tbody>\n",
       "    <tr>\n",
       "      <th>7</th>\n",
       "      <td>sensor7_histogram_bin2</td>\n",
       "      <td>0.039666</td>\n",
       "    </tr>\n",
       "    <tr>\n",
       "      <th>69</th>\n",
       "      <td>sensor35_measure</td>\n",
       "      <td>0.037006</td>\n",
       "    </tr>\n",
       "    <tr>\n",
       "      <th>75</th>\n",
       "      <td>sensor47_measure</td>\n",
       "      <td>0.035066</td>\n",
       "    </tr>\n",
       "    <tr>\n",
       "      <th>85</th>\n",
       "      <td>sensor59_measure</td>\n",
       "      <td>0.032969</td>\n",
       "    </tr>\n",
       "    <tr>\n",
       "      <th>24</th>\n",
       "      <td>sensor17_measure</td>\n",
       "      <td>0.030514</td>\n",
       "    </tr>\n",
       "    <tr>\n",
       "      <th>87</th>\n",
       "      <td>sensor61_measure</td>\n",
       "      <td>0.027276</td>\n",
       "    </tr>\n",
       "    <tr>\n",
       "      <th>20</th>\n",
       "      <td>sensor13_measure</td>\n",
       "      <td>0.024888</td>\n",
       "    </tr>\n",
       "    <tr>\n",
       "      <th>6</th>\n",
       "      <td>sensor7_histogram_bin1</td>\n",
       "      <td>0.024821</td>\n",
       "    </tr>\n",
       "    <tr>\n",
       "      <th>19</th>\n",
       "      <td>sensor12_measure</td>\n",
       "      <td>0.019505</td>\n",
       "    </tr>\n",
       "    <tr>\n",
       "      <th>132</th>\n",
       "      <td>sensor89_measure</td>\n",
       "      <td>0.019269</td>\n",
       "    </tr>\n",
       "  </tbody>\n",
       "</table>\n",
       "</div>"
      ],
      "text/plain": [
       "              FeatureLabels  Importances\n",
       "7    sensor7_histogram_bin2     0.039666\n",
       "69         sensor35_measure     0.037006\n",
       "75         sensor47_measure     0.035066\n",
       "85         sensor59_measure     0.032969\n",
       "24         sensor17_measure     0.030514\n",
       "87         sensor61_measure     0.027276\n",
       "20         sensor13_measure     0.024888\n",
       "6    sensor7_histogram_bin1     0.024821\n",
       "19         sensor12_measure     0.019505\n",
       "132        sensor89_measure     0.019269"
      ]
     },
     "execution_count": 48,
     "metadata": {},
     "output_type": "execute_result"
    }
   ],
   "source": [
    "importances = list(rf1.feature_importances_)\n",
    "feature_list=X_train.columns\n",
    "d = {'FeatureLabels':feature_list,'Importances':importances} # dictionary data type\n",
    "\n",
    "df1=pd.DataFrame(d)\n",
    "df1.sort_values(['Importances'], ascending=False)[:10]\n"
   ]
  },
  {
   "cell_type": "markdown",
   "id": "64cdad95",
   "metadata": {},
   "source": [
    "## prediction on unseen data using RF for important variables"
   ]
  },
  {
   "cell_type": "code",
   "execution_count": 49,
   "id": "f38cbf87",
   "metadata": {},
   "outputs": [],
   "source": [
    "a=df[['sensor35_measure','sensor61_measure','sensor13_measure','sensor12_measure','sensor17_measure','sensor59_measure','sensor105_histogram_bin5','sensor89_measure','sensor47_measure','sensor45_measure']]\n",
    "b=df['target']"
   ]
  },
  {
   "cell_type": "code",
   "execution_count": 50,
   "id": "9224f42b",
   "metadata": {},
   "outputs": [],
   "source": [
    "from sklearn.ensemble import RandomForestClassifier\n",
    "rf2 = RandomForestClassifier(n_estimators=100,n_jobs=4,random_state=0).fit(a, b)"
   ]
  },
  {
   "cell_type": "code",
   "execution_count": 51,
   "id": "9e9a5607",
   "metadata": {},
   "outputs": [
    {
     "data": {
      "text/html": [
       "<div>\n",
       "<style scoped>\n",
       "    .dataframe tbody tr th:only-of-type {\n",
       "        vertical-align: middle;\n",
       "    }\n",
       "\n",
       "    .dataframe tbody tr th {\n",
       "        vertical-align: top;\n",
       "    }\n",
       "\n",
       "    .dataframe thead th {\n",
       "        text-align: right;\n",
       "    }\n",
       "</style>\n",
       "<table border=\"1\" class=\"dataframe\">\n",
       "  <thead>\n",
       "    <tr style=\"text-align: right;\">\n",
       "      <th></th>\n",
       "      <th>id</th>\n",
       "      <th>sensor1_measure</th>\n",
       "      <th>sensor2_measure</th>\n",
       "      <th>sensor3_measure</th>\n",
       "      <th>sensor4_measure</th>\n",
       "      <th>sensor5_measure</th>\n",
       "      <th>sensor6_measure</th>\n",
       "      <th>sensor7_histogram_bin0</th>\n",
       "      <th>sensor7_histogram_bin1</th>\n",
       "      <th>sensor7_histogram_bin2</th>\n",
       "      <th>...</th>\n",
       "      <th>sensor105_histogram_bin2</th>\n",
       "      <th>sensor105_histogram_bin3</th>\n",
       "      <th>sensor105_histogram_bin4</th>\n",
       "      <th>sensor105_histogram_bin5</th>\n",
       "      <th>sensor105_histogram_bin6</th>\n",
       "      <th>sensor105_histogram_bin7</th>\n",
       "      <th>sensor105_histogram_bin8</th>\n",
       "      <th>sensor105_histogram_bin9</th>\n",
       "      <th>sensor106_measure</th>\n",
       "      <th>sensor107_measure</th>\n",
       "    </tr>\n",
       "  </thead>\n",
       "  <tbody>\n",
       "    <tr>\n",
       "      <th>0</th>\n",
       "      <td>1</td>\n",
       "      <td>66888</td>\n",
       "      <td>na</td>\n",
       "      <td>2130706438</td>\n",
       "      <td>332</td>\n",
       "      <td>0</td>\n",
       "      <td>0</td>\n",
       "      <td>0</td>\n",
       "      <td>0</td>\n",
       "      <td>0</td>\n",
       "      <td>...</td>\n",
       "      <td>544762</td>\n",
       "      <td>504820</td>\n",
       "      <td>1597028</td>\n",
       "      <td>631494</td>\n",
       "      <td>5644</td>\n",
       "      <td>5448</td>\n",
       "      <td>11096</td>\n",
       "      <td>1982</td>\n",
       "      <td>0</td>\n",
       "      <td>0</td>\n",
       "    </tr>\n",
       "    <tr>\n",
       "      <th>1</th>\n",
       "      <td>2</td>\n",
       "      <td>91122</td>\n",
       "      <td>na</td>\n",
       "      <td>na</td>\n",
       "      <td>na</td>\n",
       "      <td>0</td>\n",
       "      <td>0</td>\n",
       "      <td>0</td>\n",
       "      <td>0</td>\n",
       "      <td>0</td>\n",
       "      <td>...</td>\n",
       "      <td>696774</td>\n",
       "      <td>345742</td>\n",
       "      <td>939332</td>\n",
       "      <td>943744</td>\n",
       "      <td>504048</td>\n",
       "      <td>203698</td>\n",
       "      <td>287374</td>\n",
       "      <td>36566</td>\n",
       "      <td>0</td>\n",
       "      <td>0</td>\n",
       "    </tr>\n",
       "    <tr>\n",
       "      <th>2</th>\n",
       "      <td>3</td>\n",
       "      <td>218924</td>\n",
       "      <td>na</td>\n",
       "      <td>na</td>\n",
       "      <td>na</td>\n",
       "      <td>na</td>\n",
       "      <td>na</td>\n",
       "      <td>0</td>\n",
       "      <td>280</td>\n",
       "      <td>119070</td>\n",
       "      <td>...</td>\n",
       "      <td>1032974</td>\n",
       "      <td>866000</td>\n",
       "      <td>1645644</td>\n",
       "      <td>1154924</td>\n",
       "      <td>3549128</td>\n",
       "      <td>1550716</td>\n",
       "      <td>15900</td>\n",
       "      <td>0</td>\n",
       "      <td>na</td>\n",
       "      <td>na</td>\n",
       "    </tr>\n",
       "    <tr>\n",
       "      <th>3</th>\n",
       "      <td>4</td>\n",
       "      <td>16</td>\n",
       "      <td>0</td>\n",
       "      <td>30</td>\n",
       "      <td>28</td>\n",
       "      <td>0</td>\n",
       "      <td>0</td>\n",
       "      <td>0</td>\n",
       "      <td>0</td>\n",
       "      <td>0</td>\n",
       "      <td>...</td>\n",
       "      <td>70</td>\n",
       "      <td>24</td>\n",
       "      <td>40</td>\n",
       "      <td>12</td>\n",
       "      <td>56</td>\n",
       "      <td>0</td>\n",
       "      <td>0</td>\n",
       "      <td>0</td>\n",
       "      <td>0</td>\n",
       "      <td>0</td>\n",
       "    </tr>\n",
       "    <tr>\n",
       "      <th>4</th>\n",
       "      <td>5</td>\n",
       "      <td>39084</td>\n",
       "      <td>na</td>\n",
       "      <td>1054</td>\n",
       "      <td>1032</td>\n",
       "      <td>0</td>\n",
       "      <td>0</td>\n",
       "      <td>0</td>\n",
       "      <td>0</td>\n",
       "      <td>0</td>\n",
       "      <td>...</td>\n",
       "      <td>276304</td>\n",
       "      <td>123720</td>\n",
       "      <td>225722</td>\n",
       "      <td>281462</td>\n",
       "      <td>295244</td>\n",
       "      <td>256146</td>\n",
       "      <td>241074</td>\n",
       "      <td>2372</td>\n",
       "      <td>0</td>\n",
       "      <td>0</td>\n",
       "    </tr>\n",
       "  </tbody>\n",
       "</table>\n",
       "<p>5 rows × 171 columns</p>\n",
       "</div>"
      ],
      "text/plain": [
       "   id  sensor1_measure sensor2_measure sensor3_measure sensor4_measure  \\\n",
       "0   1            66888              na      2130706438             332   \n",
       "1   2            91122              na              na              na   \n",
       "2   3           218924              na              na              na   \n",
       "3   4               16               0              30              28   \n",
       "4   5            39084              na            1054            1032   \n",
       "\n",
       "  sensor5_measure sensor6_measure sensor7_histogram_bin0  \\\n",
       "0               0               0                      0   \n",
       "1               0               0                      0   \n",
       "2              na              na                      0   \n",
       "3               0               0                      0   \n",
       "4               0               0                      0   \n",
       "\n",
       "  sensor7_histogram_bin1 sensor7_histogram_bin2  ... sensor105_histogram_bin2  \\\n",
       "0                      0                      0  ...                   544762   \n",
       "1                      0                      0  ...                   696774   \n",
       "2                    280                 119070  ...                  1032974   \n",
       "3                      0                      0  ...                       70   \n",
       "4                      0                      0  ...                   276304   \n",
       "\n",
       "  sensor105_histogram_bin3 sensor105_histogram_bin4 sensor105_histogram_bin5  \\\n",
       "0                   504820                  1597028                   631494   \n",
       "1                   345742                   939332                   943744   \n",
       "2                   866000                  1645644                  1154924   \n",
       "3                       24                       40                       12   \n",
       "4                   123720                   225722                   281462   \n",
       "\n",
       "  sensor105_histogram_bin6 sensor105_histogram_bin7 sensor105_histogram_bin8  \\\n",
       "0                     5644                     5448                    11096   \n",
       "1                   504048                   203698                   287374   \n",
       "2                  3549128                  1550716                    15900   \n",
       "3                       56                        0                        0   \n",
       "4                   295244                   256146                   241074   \n",
       "\n",
       "  sensor105_histogram_bin9 sensor106_measure sensor107_measure  \n",
       "0                     1982                 0                 0  \n",
       "1                    36566                 0                 0  \n",
       "2                        0                na                na  \n",
       "3                        0                 0                 0  \n",
       "4                     2372                 0                 0  \n",
       "\n",
       "[5 rows x 171 columns]"
      ]
     },
     "execution_count": 51,
     "metadata": {},
     "output_type": "execute_result"
    }
   ],
   "source": [
    "df1=pd.read_csv('equip_failures_test_set.csv')\n",
    "df1.head()"
   ]
  },
  {
   "cell_type": "code",
   "execution_count": 52,
   "id": "e082fee9",
   "metadata": {},
   "outputs": [
    {
     "data": {
      "text/html": [
       "<div>\n",
       "<style scoped>\n",
       "    .dataframe tbody tr th:only-of-type {\n",
       "        vertical-align: middle;\n",
       "    }\n",
       "\n",
       "    .dataframe tbody tr th {\n",
       "        vertical-align: top;\n",
       "    }\n",
       "\n",
       "    .dataframe thead th {\n",
       "        text-align: right;\n",
       "    }\n",
       "</style>\n",
       "<table border=\"1\" class=\"dataframe\">\n",
       "  <thead>\n",
       "    <tr style=\"text-align: right;\">\n",
       "      <th></th>\n",
       "      <th>sensor35_measure</th>\n",
       "      <th>sensor61_measure</th>\n",
       "      <th>sensor13_measure</th>\n",
       "      <th>sensor12_measure</th>\n",
       "      <th>sensor17_measure</th>\n",
       "      <th>sensor59_measure</th>\n",
       "      <th>sensor105_histogram_bin5</th>\n",
       "      <th>sensor89_measure</th>\n",
       "      <th>sensor47_measure</th>\n",
       "      <th>sensor45_measure</th>\n",
       "    </tr>\n",
       "  </thead>\n",
       "  <tbody>\n",
       "    <tr>\n",
       "      <th>0</th>\n",
       "      <td>1026922</td>\n",
       "      <td>621043.2</td>\n",
       "      <td>0</td>\n",
       "      <td>0</td>\n",
       "      <td>1359980</td>\n",
       "      <td>3843046.08</td>\n",
       "      <td>631494</td>\n",
       "      <td>77968</td>\n",
       "      <td>4640530</td>\n",
       "      <td>66888.9</td>\n",
       "    </tr>\n",
       "    <tr>\n",
       "      <th>1</th>\n",
       "      <td>564314</td>\n",
       "      <td>583557.12</td>\n",
       "      <td>0</td>\n",
       "      <td>0</td>\n",
       "      <td>525024</td>\n",
       "      <td>5635891.2</td>\n",
       "      <td>943744</td>\n",
       "      <td>47748</td>\n",
       "      <td>6545108</td>\n",
       "      <td>91121.51</td>\n",
       "    </tr>\n",
       "    <tr>\n",
       "      <th>2</th>\n",
       "      <td>1613280</td>\n",
       "      <td>1113039.36</td>\n",
       "      <td>1351044</td>\n",
       "      <td>804746</td>\n",
       "      <td>1135476</td>\n",
       "      <td>11158955.52</td>\n",
       "      <td>1154924</td>\n",
       "      <td>na</td>\n",
       "      <td>na</td>\n",
       "      <td>218924.54</td>\n",
       "    </tr>\n",
       "    <tr>\n",
       "      <th>3</th>\n",
       "      <td>1794</td>\n",
       "      <td>2857.92</td>\n",
       "      <td>0</td>\n",
       "      <td>0</td>\n",
       "      <td>712</td>\n",
       "      <td>3103.68</td>\n",
       "      <td>12</td>\n",
       "      <td>198</td>\n",
       "      <td>32934</td>\n",
       "      <td>15.38</td>\n",
       "    </tr>\n",
       "    <tr>\n",
       "      <th>4</th>\n",
       "      <td>295666</td>\n",
       "      <td>283138.56</td>\n",
       "      <td>0</td>\n",
       "      <td>0</td>\n",
       "      <td>228912</td>\n",
       "      <td>2111437.44</td>\n",
       "      <td>281462</td>\n",
       "      <td>22874</td>\n",
       "      <td>2806880</td>\n",
       "      <td>39083.66</td>\n",
       "    </tr>\n",
       "  </tbody>\n",
       "</table>\n",
       "</div>"
      ],
      "text/plain": [
       "  sensor35_measure sensor61_measure sensor13_measure sensor12_measure  \\\n",
       "0          1026922         621043.2                0                0   \n",
       "1           564314        583557.12                0                0   \n",
       "2          1613280       1113039.36          1351044           804746   \n",
       "3             1794          2857.92                0                0   \n",
       "4           295666        283138.56                0                0   \n",
       "\n",
       "  sensor17_measure sensor59_measure sensor105_histogram_bin5 sensor89_measure  \\\n",
       "0          1359980       3843046.08                   631494            77968   \n",
       "1           525024        5635891.2                   943744            47748   \n",
       "2          1135476      11158955.52                  1154924               na   \n",
       "3              712          3103.68                       12              198   \n",
       "4           228912       2111437.44                   281462            22874   \n",
       "\n",
       "  sensor47_measure sensor45_measure  \n",
       "0          4640530          66888.9  \n",
       "1          6545108         91121.51  \n",
       "2               na        218924.54  \n",
       "3            32934            15.38  \n",
       "4          2806880         39083.66  "
      ]
     },
     "execution_count": 52,
     "metadata": {},
     "output_type": "execute_result"
    }
   ],
   "source": [
    "new=df1[['sensor35_measure','sensor61_measure','sensor13_measure','sensor12_measure','sensor17_measure','sensor59_measure','sensor105_histogram_bin5','sensor89_measure','sensor47_measure','sensor45_measure']]\n",
    "new.head()"
   ]
  },
  {
   "cell_type": "code",
   "execution_count": 53,
   "id": "0a5e40df",
   "metadata": {},
   "outputs": [
    {
     "data": {
      "text/plain": [
       "(16001, 10)"
      ]
     },
     "execution_count": 53,
     "metadata": {},
     "output_type": "execute_result"
    }
   ],
   "source": [
    "new.shape"
   ]
  },
  {
   "cell_type": "code",
   "execution_count": 54,
   "id": "ea54646c",
   "metadata": {},
   "outputs": [],
   "source": [
    "# Replacing string 'na' with NaN values\n",
    "\n",
    "new = new.replace('na',np.nan)\n",
    "\n",
    "# Replacing NaN with median values\n",
    "\n",
    "for col in new.columns:\n",
    "    if col not in ['id']:\n",
    "        new[col] = new[col].fillna(new[col].median())"
   ]
  },
  {
   "cell_type": "code",
   "execution_count": 55,
   "id": "9563981f",
   "metadata": {},
   "outputs": [],
   "source": [
    "y_pred = rf2.predict(new)"
   ]
  },
  {
   "cell_type": "code",
   "execution_count": 56,
   "id": "002681ac",
   "metadata": {},
   "outputs": [
    {
     "data": {
      "text/html": [
       "<div>\n",
       "<style scoped>\n",
       "    .dataframe tbody tr th:only-of-type {\n",
       "        vertical-align: middle;\n",
       "    }\n",
       "\n",
       "    .dataframe tbody tr th {\n",
       "        vertical-align: top;\n",
       "    }\n",
       "\n",
       "    .dataframe thead th {\n",
       "        text-align: right;\n",
       "    }\n",
       "</style>\n",
       "<table border=\"1\" class=\"dataframe\">\n",
       "  <thead>\n",
       "    <tr style=\"text-align: right;\">\n",
       "      <th></th>\n",
       "      <th>Predicted</th>\n",
       "    </tr>\n",
       "  </thead>\n",
       "  <tbody>\n",
       "    <tr>\n",
       "      <th>0</th>\n",
       "      <td>0</td>\n",
       "    </tr>\n",
       "    <tr>\n",
       "      <th>1</th>\n",
       "      <td>0</td>\n",
       "    </tr>\n",
       "    <tr>\n",
       "      <th>2</th>\n",
       "      <td>0</td>\n",
       "    </tr>\n",
       "    <tr>\n",
       "      <th>3</th>\n",
       "      <td>0</td>\n",
       "    </tr>\n",
       "    <tr>\n",
       "      <th>4</th>\n",
       "      <td>0</td>\n",
       "    </tr>\n",
       "    <tr>\n",
       "      <th>...</th>\n",
       "      <td>...</td>\n",
       "    </tr>\n",
       "    <tr>\n",
       "      <th>15996</th>\n",
       "      <td>0</td>\n",
       "    </tr>\n",
       "    <tr>\n",
       "      <th>15997</th>\n",
       "      <td>0</td>\n",
       "    </tr>\n",
       "    <tr>\n",
       "      <th>15998</th>\n",
       "      <td>0</td>\n",
       "    </tr>\n",
       "    <tr>\n",
       "      <th>15999</th>\n",
       "      <td>0</td>\n",
       "    </tr>\n",
       "    <tr>\n",
       "      <th>16000</th>\n",
       "      <td>0</td>\n",
       "    </tr>\n",
       "  </tbody>\n",
       "</table>\n",
       "<p>16001 rows × 1 columns</p>\n",
       "</div>"
      ],
      "text/plain": [
       "       Predicted\n",
       "0              0\n",
       "1              0\n",
       "2              0\n",
       "3              0\n",
       "4              0\n",
       "...          ...\n",
       "15996          0\n",
       "15997          0\n",
       "15998          0\n",
       "15999          0\n",
       "16000          0\n",
       "\n",
       "[16001 rows x 1 columns]"
      ]
     },
     "execution_count": 56,
     "metadata": {},
     "output_type": "execute_result"
    }
   ],
   "source": [
    "Prediction=pd.DataFrame({'Predicted':y_pred})\n",
    "Prediction"
   ]
  },
  {
   "cell_type": "code",
   "execution_count": null,
   "id": "e31d227c",
   "metadata": {},
   "outputs": [],
   "source": []
  },
  {
   "cell_type": "code",
   "execution_count": 57,
   "id": "33d8af4a",
   "metadata": {},
   "outputs": [
    {
     "data": {
      "image/png": "[encoded data removed]",
      "text/plain": [
       "<Figure size 1080x1080 with 10 Axes>"
      ]
     },
     "metadata": {
      "needs_background": "light"
     },
     "output_type": "display_data"
    }
   ],
   "source": [
    "col = new.columns\n",
    "plt.figure (figsize = (15,15))\n",
    "for i in range (len(col)):\n",
    "    plt.subplot(4,4,i+1)\n",
    "    ax = sns.distplot(new[col[i]], kde = False)\n",
    "    ax.autoscale()\n",
    "plt.show()"
   ]
  },
  {
   "cell_type": "code",
   "execution_count": null,
   "id": "78afdf5f",
   "metadata": {},
   "outputs": [],
   "source": []
  },
  {
   "cell_type": "code",
   "execution_count": null,
   "id": "2c840318",
   "metadata": {},
   "outputs": [],
   "source": []
  },
  {
   "cell_type": "code",
   "execution_count": null,
   "id": "69b80c83",
   "metadata": {},
   "outputs": [],
   "source": []
  },
  {
   "cell_type": "code",
   "execution_count": null,
   "id": "b248bb2d",
   "metadata": {},
   "outputs": [],
   "source": []
  },
  {
   "cell_type": "code",
   "execution_count": null,
   "id": "373aaa8e",
   "metadata": {},
   "outputs": [],
   "source": []
  },
  {
   "cell_type": "code",
   "execution_count": null,
   "id": "d11e7698",
   "metadata": {},
   "outputs": [],
   "source": []
  },
  {
   "cell_type": "code",
   "execution_count": null,
   "id": "c6123d5e",
   "metadata": {},
   "outputs": [],
   "source": []
  }
 ],
 "metadata": {
  "kernelspec": {
   "display_name": "Python 3 (ipykernel)",
   "language": "python",
   "name": "python3"
  },
  "language_info": {
   "codemirror_mode": {
    "name": "ipython",
    "version": 3
   },
   "file_extension": ".py",
   "mimetype": "text/x-python",
   "name": "python",
   "nbconvert_exporter": "python",
   "pygments_lexer": "ipython3",
   "version": "3.9.7"
  }
 },
 "nbformat": 4,
 "nbformat_minor": 5
}
